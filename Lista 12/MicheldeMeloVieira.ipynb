{
 "cells": [
  {
   "cell_type": "markdown",
   "metadata": {},
   "source": [
    "# 2ª AP de Aprendizado de Máquina\n",
    "\n",
    "Professor: Regis Pires Magalhães <br/>\n",
    "Alumo: Michel de Melo Vieira <br/>\n",
    "Matricula: 389959 <br/>\n",
    "\n",
    "#### Observações:\n",
    "- Primeiramente faça uma cópia backup deste arquivo sem suas resoluções.\n",
    "- A segunda questão vale 1 ponto. As demais questões valem 1,5.\n",
    "- Desconecte o cabo de rede do computador.\n",
    "- Somente é permitida consulta à documentação contida na pasta mldocs.\n",
    "- Não é permitido o uso de pendrive ou qualquer outro meio de armazenamento externo de dados.\n",
    "- Ao concluir a avaliação, altere o nome do notebook para conter a matricula e o nome do aluno. Somente depois disso, chame o professor para entregar sua resolução, que deverá ser copiada para o pendrive do professor."
   ]
  },
  {
   "cell_type": "code",
   "execution_count": 87,
   "metadata": {},
   "outputs": [],
   "source": [
    "import numpy as np\n",
    "import pandas as pd\n",
    "import matplotlib.pyplot as plt\n",
    "from sklearn import datasets\n",
    "from sklearn.model_selection import train_test_split\n",
    "from sklearn.linear_model import LogisticRegression\n",
    "from sklearn.svm import SVC\n",
    "from sklearn.naive_bayes import GaussianNB\n",
    "from sklearn.neighbors import NearestNeighbors, KNeighborsClassifier"
   ]
  },
  {
   "cell_type": "markdown",
   "metadata": {},
   "source": [
    "## 1. Crie manualmente conjuntos de treino e teste para um 3-Fold a partir dos dados a seguir, onde X representa as features, e y representa os labels."
   ]
  },
  {
   "cell_type": "code",
   "execution_count": 4,
   "metadata": {},
   "outputs": [],
   "source": [
    "X = np.array([[-3, 1],\n",
    "              [ 1, 5], \n",
    "              [ 1, 2], \n",
    "              [-2, 0], \n",
    "              [ 2, 3], \n",
    "              [-4, 0], \n",
    "              [-1, 1], \n",
    "              [ 1, 1], \n",
    "              [-2, 2]])\n",
    "y = np.array([0, 2, 2, 1, 2, 0, 1, 2, 0])"
   ]
  },
  {
   "cell_type": "markdown",
   "metadata": {},
   "source": [
    "### Resposta:\n",
    "#### 1 Fold:\n",
    "```python\n",
    "X_train = [[-3, 1],[ 1, 5],[ 1, 2],[-2, 0],[ 2, 3],[-4, 0],[-1, 1],[ 1, 1],[-2, 2]]\n",
    "y_train = []\n",
    "X_test = [0, 2, 2, 1, 2, 0, 1, 2, 0] \n",
    "y_test = []\n",
    "```"
   ]
  },
  {
   "cell_type": "code",
   "execution_count": null,
   "metadata": {},
   "outputs": [],
   "source": []
  },
  {
   "cell_type": "markdown",
   "metadata": {},
   "source": [
    "#### 2 Fold:\n",
    "```python\n",
    "X_train = [[[-3, 1],[ 1, 5],[ 1, 2],[-2, 0],[ 2, 3]], [[-4, 0],[-1, 1],[ 1, 1],[-2, 2]]]\n",
    "y_train = [[0, 2, 2, 1, 2],[0, 1, 2, 0]]\n",
    "X_test = [[[-4, 0],[-1, 1],[ 1, 1],[-2, 2]], [[-3, 1],[ 1, 5],[ 1, 2],[-2, 0],[ 2, 3]]]\n",
    "y_test = [[0, 1, 2, 0],[0, 2, 2, 1, 2]]\n",
    "```"
   ]
  },
  {
   "cell_type": "markdown",
   "metadata": {},
   "source": [
    "#### 3 Fold:\n",
    "```python\n",
    "X_train = [[[-2, 0],[ 2, 3],[-4, 0],[-1, 1],[ 1, 1],[-2, 2]], [[-3, 1],[ 1, 5],[ 1, 2],[-1, 1],[ 1, 1],[-2, 2]], [[-3, 1],[ 1, 5],[ 1, 2],[-2, 0],[ 2, 3],[-4, 0]]]\n",
    "y_train = [[1, 2, 0, 1, 2, 0],[0, 2, 2, 1, 2, 0],[0, 2, 2, 1, 2, 0]]\n",
    "X_test = [[[-3, 1],[ 1, 5],[ 1, 2]],[[-2, 0],[ 2, 3],[-4, 0]],[[-1, 1],[ 1, 1],[-2, 2]]]\n",
    "y_test = [[0, 2, 2],[1, 2, 0],[1, 2, 0]]\n",
    "```"
   ]
  },
  {
   "cell_type": "code",
   "execution_count": null,
   "metadata": {},
   "outputs": [],
   "source": []
  },
  {
   "cell_type": "markdown",
   "metadata": {},
   "source": [
    "## 2. Desenhe um gráfico de pontos onde, o eixo x é representado pela 1ª coluna de X, o eixo y é presentado pela 2ª coluna de X e os labels 0, 1 e 2 são representados por diferentes cores."
   ]
  },
  {
   "cell_type": "code",
   "execution_count": 8,
   "metadata": {},
   "outputs": [
    {
     "data": {
      "image/png": "[encoded data removed]",
      "text/plain": [
       "<Figure size 432x288 with 1 Axes>"
      ]
     },
     "metadata": {
      "needs_background": "light"
     },
     "output_type": "display_data"
    }
   ],
   "source": [
    "plt.scatter(X[:,0],X[:,1],c=y);"
   ]
  },
  {
   "cell_type": "markdown",
   "metadata": {},
   "source": [
    "## 3. Dada a amostra [-0.5, 1] e levando em conta as features X e os labels y da questão 1, mas desconsiderando o k-fold, responda: a que classe esta amostra pertence se você usar o kNN com k=2? Prove usando a distância euclidiana entre os 2 pontos visualmente mais próximos. Não é necessário executar a implementação do algoritmo kNN."
   ]
  },
  {
   "cell_type": "code",
   "execution_count": 28,
   "metadata": {},
   "outputs": [
    {
     "name": "stdout",
     "output_type": "stream",
     "text": [
      "1.8027756377319946\n",
      "1.5\n"
     ]
    }
   ],
   "source": [
    "# ponto (-2,0)\n",
    "print(np.sqrt(np.square(np.absolute(-0.5-(-2))) + np.square(np.absolute(1-0))))\n",
    "# ponto (1,1)\n",
    "print(np.sqrt(np.square(np.absolute(-0.5-1)) + np.square(np.absolute(1-1))))"
   ]
  },
  {
   "cell_type": "markdown",
   "metadata": {},
   "source": [
    "para k=2 a amostra [-0.5,1] pegara dois visinhos de classes distintas, portante, tornasse dificil de classificalo para k2 vizinhos, se levar em consideração o visinho mais prossimo a amostra sera do tipo 1 "
   ]
  },
  {
   "cell_type": "markdown",
   "metadata": {},
   "source": [
    "# >>> os 2 vizinhos mais próximos são (1,1) e (-1, 1)."
   ]
  },
  {
   "cell_type": "markdown",
   "metadata": {},
   "source": [
    "## 4. Dado o dataframe df_jogo a seguir, que relaciona o tempo com jogar (1) ou não jogar (0), calcule manualmente a probabilidade de não jogar, dado que está chuvendo."
   ]
  },
  {
   "cell_type": "code",
   "execution_count": 29,
   "metadata": {},
   "outputs": [
    {
     "data": {
      "text/html": [
       "<div>\n",
       "<style scoped>\n",
       "    .dataframe tbody tr th:only-of-type {\n",
       "        vertical-align: middle;\n",
       "    }\n",
       "\n",
       "    .dataframe tbody tr th {\n",
       "        vertical-align: top;\n",
       "    }\n",
       "\n",
       "    .dataframe thead th {\n",
       "        text-align: right;\n",
       "    }\n",
       "</style>\n",
       "<table border=\"1\" class=\"dataframe\">\n",
       "  <thead>\n",
       "    <tr style=\"text-align: right;\">\n",
       "      <th></th>\n",
       "      <th>tempo</th>\n",
       "      <th>jogar</th>\n",
       "    </tr>\n",
       "  </thead>\n",
       "  <tbody>\n",
       "    <tr>\n",
       "      <th>0</th>\n",
       "      <td>sol</td>\n",
       "      <td>0</td>\n",
       "    </tr>\n",
       "    <tr>\n",
       "      <th>1</th>\n",
       "      <td>nuvens</td>\n",
       "      <td>1</td>\n",
       "    </tr>\n",
       "    <tr>\n",
       "      <th>2</th>\n",
       "      <td>chuva</td>\n",
       "      <td>1</td>\n",
       "    </tr>\n",
       "    <tr>\n",
       "      <th>3</th>\n",
       "      <td>sol</td>\n",
       "      <td>1</td>\n",
       "    </tr>\n",
       "    <tr>\n",
       "      <th>4</th>\n",
       "      <td>sol</td>\n",
       "      <td>1</td>\n",
       "    </tr>\n",
       "    <tr>\n",
       "      <th>5</th>\n",
       "      <td>nuvens</td>\n",
       "      <td>1</td>\n",
       "    </tr>\n",
       "    <tr>\n",
       "      <th>6</th>\n",
       "      <td>chuva</td>\n",
       "      <td>0</td>\n",
       "    </tr>\n",
       "    <tr>\n",
       "      <th>7</th>\n",
       "      <td>chuva</td>\n",
       "      <td>0</td>\n",
       "    </tr>\n",
       "    <tr>\n",
       "      <th>8</th>\n",
       "      <td>sol</td>\n",
       "      <td>1</td>\n",
       "    </tr>\n",
       "    <tr>\n",
       "      <th>9</th>\n",
       "      <td>chuva</td>\n",
       "      <td>1</td>\n",
       "    </tr>\n",
       "  </tbody>\n",
       "</table>\n",
       "</div>"
      ],
      "text/plain": [
       "    tempo  jogar\n",
       "0     sol      0\n",
       "1  nuvens      1\n",
       "2   chuva      1\n",
       "3     sol      1\n",
       "4     sol      1\n",
       "5  nuvens      1\n",
       "6   chuva      0\n",
       "7   chuva      0\n",
       "8     sol      1\n",
       "9   chuva      1"
      ]
     },
     "execution_count": 29,
     "metadata": {},
     "output_type": "execute_result"
    }
   ],
   "source": [
    "tempo = np.array(['sol', 'nuvens', 'chuva', 'sol', 'sol', 'nuvens', 'chuva', 'chuva', 'sol', 'chuva'])\n",
    "jogar = np.array([0, 1, 1, 1, 1, 1, 0, 0, 1, 1])\n",
    "df_jogo = pd.DataFrame({'tempo': tempo, 'jogar': jogar})\n",
    "df_jogo"
   ]
  },
  {
   "cell_type": "code",
   "execution_count": 55,
   "metadata": {},
   "outputs": [],
   "source": [
    "df_jogo_dm = pd.get_dummies(df_jogo, drop_first=True)"
   ]
  },
  {
   "cell_type": "code",
   "execution_count": 72,
   "metadata": {},
   "outputs": [
    {
     "data": {
      "text/html": [
       "<div>\n",
       "<style scoped>\n",
       "    .dataframe tbody tr th:only-of-type {\n",
       "        vertical-align: middle;\n",
       "    }\n",
       "\n",
       "    .dataframe tbody tr th {\n",
       "        vertical-align: top;\n",
       "    }\n",
       "\n",
       "    .dataframe thead th {\n",
       "        text-align: right;\n",
       "    }\n",
       "</style>\n",
       "<table border=\"1\" class=\"dataframe\">\n",
       "  <thead>\n",
       "    <tr style=\"text-align: right;\">\n",
       "      <th></th>\n",
       "      <th>jogar</th>\n",
       "      <th>tempo_nuvens</th>\n",
       "      <th>tempo_sol</th>\n",
       "    </tr>\n",
       "  </thead>\n",
       "  <tbody>\n",
       "    <tr>\n",
       "      <th>0</th>\n",
       "      <td>0</td>\n",
       "      <td>0</td>\n",
       "      <td>1</td>\n",
       "    </tr>\n",
       "    <tr>\n",
       "      <th>1</th>\n",
       "      <td>1</td>\n",
       "      <td>1</td>\n",
       "      <td>0</td>\n",
       "    </tr>\n",
       "    <tr>\n",
       "      <th>2</th>\n",
       "      <td>1</td>\n",
       "      <td>0</td>\n",
       "      <td>0</td>\n",
       "    </tr>\n",
       "    <tr>\n",
       "      <th>3</th>\n",
       "      <td>1</td>\n",
       "      <td>0</td>\n",
       "      <td>1</td>\n",
       "    </tr>\n",
       "    <tr>\n",
       "      <th>4</th>\n",
       "      <td>1</td>\n",
       "      <td>0</td>\n",
       "      <td>1</td>\n",
       "    </tr>\n",
       "    <tr>\n",
       "      <th>5</th>\n",
       "      <td>1</td>\n",
       "      <td>1</td>\n",
       "      <td>0</td>\n",
       "    </tr>\n",
       "    <tr>\n",
       "      <th>6</th>\n",
       "      <td>0</td>\n",
       "      <td>0</td>\n",
       "      <td>0</td>\n",
       "    </tr>\n",
       "    <tr>\n",
       "      <th>7</th>\n",
       "      <td>0</td>\n",
       "      <td>0</td>\n",
       "      <td>0</td>\n",
       "    </tr>\n",
       "    <tr>\n",
       "      <th>8</th>\n",
       "      <td>1</td>\n",
       "      <td>0</td>\n",
       "      <td>1</td>\n",
       "    </tr>\n",
       "    <tr>\n",
       "      <th>9</th>\n",
       "      <td>1</td>\n",
       "      <td>0</td>\n",
       "      <td>0</td>\n",
       "    </tr>\n",
       "  </tbody>\n",
       "</table>\n",
       "</div>"
      ],
      "text/plain": [
       "   jogar  tempo_nuvens  tempo_sol\n",
       "0      0             0          1\n",
       "1      1             1          0\n",
       "2      1             0          0\n",
       "3      1             0          1\n",
       "4      1             0          1\n",
       "5      1             1          0\n",
       "6      0             0          0\n",
       "7      0             0          0\n",
       "8      1             0          1\n",
       "9      1             0          0"
      ]
     },
     "execution_count": 72,
     "metadata": {},
     "output_type": "execute_result"
    }
   ],
   "source": [
    "df_jogo_dm"
   ]
  },
  {
   "cell_type": "code",
   "execution_count": 60,
   "metadata": {},
   "outputs": [],
   "source": [
    "X = df_jogo_dm.values[:,:-1]\n",
    "y = df_jogo_dm.values[:,-1]"
   ]
  },
  {
   "cell_type": "code",
   "execution_count": 61,
   "metadata": {},
   "outputs": [],
   "source": [
    "X_train, X_test, y_train,y_test = train_test_split(X,y,test_size=0.25, random_state=42)"
   ]
  },
  {
   "cell_type": "code",
   "execution_count": 62,
   "metadata": {},
   "outputs": [],
   "source": [
    "GNB = GaussianNB()"
   ]
  },
  {
   "cell_type": "code",
   "execution_count": 64,
   "metadata": {},
   "outputs": [],
   "source": [
    "GNB.fit(X_train,y_train);"
   ]
  },
  {
   "cell_type": "code",
   "execution_count": 78,
   "metadata": {},
   "outputs": [],
   "source": [
    "y_pred = GNB.predict_proba(X_test)"
   ]
  },
  {
   "cell_type": "code",
   "execution_count": 75,
   "metadata": {},
   "outputs": [
    {
     "data": {
      "text/plain": [
       "0.5000000265708967"
      ]
     },
     "execution_count": 75,
     "metadata": {},
     "output_type": "execute_result"
    }
   ],
   "source": [
    "np.mean(y_pred)"
   ]
  },
  {
   "cell_type": "markdown",
   "metadata": {},
   "source": [
    "# >>> O cálculo desta probabilidade não atende às condições solicitadas na questão."
   ]
  },
  {
   "cell_type": "markdown",
   "metadata": {},
   "source": [
    "## 5. Transforme o dataframe df_jogo para que a feature categórica não ordenada 'tempo' possa ser melhor usada de modo geral por algoritmos de aprendizado de máquina. No final, você deve ter um dataframe chamado df_transform."
   ]
  },
  {
   "cell_type": "code",
   "execution_count": 76,
   "metadata": {},
   "outputs": [
    {
     "data": {
      "text/html": [
       "<div>\n",
       "<style scoped>\n",
       "    .dataframe tbody tr th:only-of-type {\n",
       "        vertical-align: middle;\n",
       "    }\n",
       "\n",
       "    .dataframe tbody tr th {\n",
       "        vertical-align: top;\n",
       "    }\n",
       "\n",
       "    .dataframe thead th {\n",
       "        text-align: right;\n",
       "    }\n",
       "</style>\n",
       "<table border=\"1\" class=\"dataframe\">\n",
       "  <thead>\n",
       "    <tr style=\"text-align: right;\">\n",
       "      <th></th>\n",
       "      <th>jogar</th>\n",
       "      <th>tempo_nuvens</th>\n",
       "      <th>tempo_sol</th>\n",
       "    </tr>\n",
       "  </thead>\n",
       "  <tbody>\n",
       "    <tr>\n",
       "      <th>0</th>\n",
       "      <td>0</td>\n",
       "      <td>0</td>\n",
       "      <td>1</td>\n",
       "    </tr>\n",
       "    <tr>\n",
       "      <th>1</th>\n",
       "      <td>1</td>\n",
       "      <td>1</td>\n",
       "      <td>0</td>\n",
       "    </tr>\n",
       "    <tr>\n",
       "      <th>2</th>\n",
       "      <td>1</td>\n",
       "      <td>0</td>\n",
       "      <td>0</td>\n",
       "    </tr>\n",
       "    <tr>\n",
       "      <th>3</th>\n",
       "      <td>1</td>\n",
       "      <td>0</td>\n",
       "      <td>1</td>\n",
       "    </tr>\n",
       "    <tr>\n",
       "      <th>4</th>\n",
       "      <td>1</td>\n",
       "      <td>0</td>\n",
       "      <td>1</td>\n",
       "    </tr>\n",
       "    <tr>\n",
       "      <th>5</th>\n",
       "      <td>1</td>\n",
       "      <td>1</td>\n",
       "      <td>0</td>\n",
       "    </tr>\n",
       "    <tr>\n",
       "      <th>6</th>\n",
       "      <td>0</td>\n",
       "      <td>0</td>\n",
       "      <td>0</td>\n",
       "    </tr>\n",
       "    <tr>\n",
       "      <th>7</th>\n",
       "      <td>0</td>\n",
       "      <td>0</td>\n",
       "      <td>0</td>\n",
       "    </tr>\n",
       "    <tr>\n",
       "      <th>8</th>\n",
       "      <td>1</td>\n",
       "      <td>0</td>\n",
       "      <td>1</td>\n",
       "    </tr>\n",
       "    <tr>\n",
       "      <th>9</th>\n",
       "      <td>1</td>\n",
       "      <td>0</td>\n",
       "      <td>0</td>\n",
       "    </tr>\n",
       "  </tbody>\n",
       "</table>\n",
       "</div>"
      ],
      "text/plain": [
       "   jogar  tempo_nuvens  tempo_sol\n",
       "0      0             0          1\n",
       "1      1             1          0\n",
       "2      1             0          0\n",
       "3      1             0          1\n",
       "4      1             0          1\n",
       "5      1             1          0\n",
       "6      0             0          0\n",
       "7      0             0          0\n",
       "8      1             0          1\n",
       "9      1             0          0"
      ]
     },
     "execution_count": 76,
     "metadata": {},
     "output_type": "execute_result"
    }
   ],
   "source": [
    "df_trasform = pd.get_dummies(df_jogo, drop_first=True)\n",
    "df_trasform"
   ]
  },
  {
   "cell_type": "markdown",
   "metadata": {},
   "source": [
    "## 6. Dados os 3 pontos a seguir, calcule as distâncias euclidiana, manhattan e chebyshev entre o primeiro e o último ponto."
   ]
  },
  {
   "cell_type": "code",
   "execution_count": null,
   "metadata": {},
   "outputs": [],
   "source": [
    "X = np.array([ [0,1], [2,6], [3,2] ])"
   ]
  },
  {
   "cell_type": "code",
   "execution_count": 143,
   "metadata": {},
   "outputs": [
    {
     "name": "stdout",
     "output_type": "stream",
     "text": [
      "euclidiana\n",
      "3.1622776601683795\n",
      "manhattan\n",
      "4\n",
      "chebyshev\n",
      "3\n"
     ]
    }
   ],
   "source": [
    "print('euclidiana')\n",
    "print(np.sqrt(np.square(np.absolute(0-3)) + np.square(np.absolute(1-2))))\n",
    "print('manhattan')\n",
    "print(np.absolute(0-3) + np.absolute(1-2))\n",
    "print('chebyshev')\n",
    "print(np.maximum(np.absolute(0-3),np.absolute(1-2)))"
   ]
  },
  {
   "cell_type": "markdown",
   "metadata": {},
   "source": [
    "## 7. Avalie e compare a acurácia dos algoritmos Logistic Regression, GassianNB, SVM e kNN usando os dados de treino e teste a seguir."
   ]
  },
  {
   "cell_type": "code",
   "execution_count": 92,
   "metadata": {},
   "outputs": [],
   "source": [
    "from sklearn import metrics"
   ]
  },
  {
   "cell_type": "code",
   "execution_count": 79,
   "metadata": {},
   "outputs": [
    {
     "name": "stdout",
     "output_type": "stream",
     "text": [
      "(426, 30) (426,) (143, 30) (143,)\n"
     ]
    }
   ],
   "source": [
    "X, y = datasets.load_breast_cancer(return_X_y=True)\n",
    "X_train, X_test, y_train, y_test = train_test_split(X, y, stratify=y, random_state=42)\n",
    "print(X_train.shape, y_train.shape, X_test.shape, y_test.shape)"
   ]
  },
  {
   "cell_type": "code",
   "execution_count": 102,
   "metadata": {},
   "outputs": [],
   "source": [
    "modelos= {}\n",
    "modelos['Logistic Regression'] = {'modelo': LogisticRegression(solver='lbfgs'),'pred':0, 'acuracy':0}\n",
    "modelos['GassianNB'] = {'modelo': GaussianNB(),'pred':0, 'acuracy':0}\n",
    "modelos['SVM'] = {'modelo':SVC(gamma='auto'),'pred':0, 'acuracy':0}\n",
    "modelos['kNN'] = {'modelo':KNeighborsClassifier(n_neighbors=2, algorithm='kd_tree'),'pred':0, 'acuracy':0}"
   ]
  },
  {
   "cell_type": "code",
   "execution_count": 103,
   "metadata": {},
   "outputs": [
    {
     "name": "stdout",
     "output_type": "stream",
     "text": [
      "CPU times: user 297 ms, sys: 12.1 ms, total: 309 ms\n",
      "Wall time: 93.3 ms\n"
     ]
    },
    {
     "name": "stderr",
     "output_type": "stream",
     "text": [
      "/home/aluno/anaconda3/lib/python3.7/site-packages/sklearn/linear_model/logistic.py:758: ConvergenceWarning: lbfgs failed to converge. Increase the number of iterations.\n",
      "  \"of iterations.\", ConvergenceWarning)\n"
     ]
    }
   ],
   "source": [
    "%%time\n",
    "for modelo in modelos:\n",
    "    modelos[modelo]['modelo'].fit(X_train,y_train)\n",
    "    modelos[modelo]['pred'] = modelos[modelo]['modelo'].predict(X_test)"
   ]
  },
  {
   "cell_type": "code",
   "execution_count": 104,
   "metadata": {},
   "outputs": [
    {
     "name": "stdout",
     "output_type": "stream",
     "text": [
      "CPU times: user 2.22 ms, sys: 91 µs, total: 2.31 ms\n",
      "Wall time: 1.47 ms\n"
     ]
    }
   ],
   "source": [
    "%%time\n",
    "for modelo in modelos:\n",
    "    modelos[modelo]['acuracy'] = metrics.accuracy_score(y_test,modelos[modelo]['pred'])"
   ]
  },
  {
   "cell_type": "code",
   "execution_count": 105,
   "metadata": {},
   "outputs": [
    {
     "name": "stdout",
     "output_type": "stream",
     "text": [
      "Logistic Regression 0.958041958041958\n",
      "GassianNB 0.9370629370629371\n",
      "SVM 0.6293706293706294\n",
      "kNN 0.9300699300699301\n"
     ]
    }
   ],
   "source": [
    "for modelo in modelos:\n",
    "    print(modelo,modelos[modelo]['acuracy'])"
   ]
  }
 ],
 "metadata": {
  "kernelspec": {
   "display_name": "Python 3",
   "language": "python",
   "name": "python3"
  },
  "language_info": {
   "codemirror_mode": {
    "name": "ipython",
    "version": 3
   },
   "file_extension": ".py",
   "mimetype": "text/x-python",
   "name": "python",
   "nbconvert_exporter": "python",
   "pygments_lexer": "ipython3",
   "version": "3.7.3"
  }
 },
 "nbformat": 4,
 "nbformat_minor": 2
}
