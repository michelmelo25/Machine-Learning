{
 "cells": [
  {
   "cell_type": "markdown",
   "metadata": {},
   "source": [
    "# <center> Lista 5"
   ]
  },
  {
   "cell_type": "markdown",
   "metadata": {},
   "source": [
    "### Objetivo: realizar a predição para obter o preço de venda de um imóvel a partir do seguinte dataset \"Boston House Price Dataset\". "
   ]
  },
  {
   "cell_type": "code",
   "execution_count": 85,
   "metadata": {},
   "outputs": [],
   "source": [
    "import numpy as np\n",
    "import pandas as pd\n",
    "import matplotlib as plt\n",
    "from ml_libs import Regressao_linear_gd\n",
    "from ml_libs import metricas\n",
    "from ml_libs import Normalizacao\n",
    "from importlib import reload"
   ]
  },
  {
   "cell_type": "code",
   "execution_count": 86,
   "metadata": {},
   "outputs": [
    {
     "data": {
      "text/plain": [
       "<module 'ml_libs.metricas' from '/home/michel/Documentos/Machine-Learning/Lista 5/ml_libs/metricas.py'>"
      ]
     },
     "execution_count": 86,
     "metadata": {},
     "output_type": "execute_result"
    }
   ],
   "source": [
    "reload(Regressao_linear_gd)\n",
    "reload(metricas)"
   ]
  },
  {
   "cell_type": "code",
   "execution_count": 3,
   "metadata": {},
   "outputs": [],
   "source": [
    "cols = ['CRIM ','ZN','INDUS','CHAS','NOX','RM','AGE','DIS','RAD','TAX','PTRATIO','B','LSTAT','MEDV']\n",
    "df = pd.read_csv('housing.csv',names=cols, sep='\\s+')"
   ]
  },
  {
   "cell_type": "code",
   "execution_count": 4,
   "metadata": {
    "scrolled": true
   },
   "outputs": [
    {
     "data": {
      "text/html": [
       "<div>\n",
       "<style scoped>\n",
       "    .dataframe tbody tr th:only-of-type {\n",
       "        vertical-align: middle;\n",
       "    }\n",
       "\n",
       "    .dataframe tbody tr th {\n",
       "        vertical-align: top;\n",
       "    }\n",
       "\n",
       "    .dataframe thead th {\n",
       "        text-align: right;\n",
       "    }\n",
       "</style>\n",
       "<table border=\"1\" class=\"dataframe\">\n",
       "  <thead>\n",
       "    <tr style=\"text-align: right;\">\n",
       "      <th></th>\n",
       "      <th>CRIM</th>\n",
       "      <th>ZN</th>\n",
       "      <th>INDUS</th>\n",
       "      <th>CHAS</th>\n",
       "      <th>NOX</th>\n",
       "      <th>RM</th>\n",
       "      <th>AGE</th>\n",
       "      <th>DIS</th>\n",
       "      <th>RAD</th>\n",
       "      <th>TAX</th>\n",
       "      <th>PTRATIO</th>\n",
       "      <th>B</th>\n",
       "      <th>LSTAT</th>\n",
       "      <th>MEDV</th>\n",
       "    </tr>\n",
       "  </thead>\n",
       "  <tbody>\n",
       "    <tr>\n",
       "      <th>0</th>\n",
       "      <td>0.00632</td>\n",
       "      <td>18.0</td>\n",
       "      <td>2.31</td>\n",
       "      <td>0</td>\n",
       "      <td>0.538</td>\n",
       "      <td>6.575</td>\n",
       "      <td>65.2</td>\n",
       "      <td>4.0900</td>\n",
       "      <td>1</td>\n",
       "      <td>296.0</td>\n",
       "      <td>15.3</td>\n",
       "      <td>396.90</td>\n",
       "      <td>4.98</td>\n",
       "      <td>24.0</td>\n",
       "    </tr>\n",
       "    <tr>\n",
       "      <th>1</th>\n",
       "      <td>0.02731</td>\n",
       "      <td>0.0</td>\n",
       "      <td>7.07</td>\n",
       "      <td>0</td>\n",
       "      <td>0.469</td>\n",
       "      <td>6.421</td>\n",
       "      <td>78.9</td>\n",
       "      <td>4.9671</td>\n",
       "      <td>2</td>\n",
       "      <td>242.0</td>\n",
       "      <td>17.8</td>\n",
       "      <td>396.90</td>\n",
       "      <td>9.14</td>\n",
       "      <td>21.6</td>\n",
       "    </tr>\n",
       "    <tr>\n",
       "      <th>2</th>\n",
       "      <td>0.02729</td>\n",
       "      <td>0.0</td>\n",
       "      <td>7.07</td>\n",
       "      <td>0</td>\n",
       "      <td>0.469</td>\n",
       "      <td>7.185</td>\n",
       "      <td>61.1</td>\n",
       "      <td>4.9671</td>\n",
       "      <td>2</td>\n",
       "      <td>242.0</td>\n",
       "      <td>17.8</td>\n",
       "      <td>392.83</td>\n",
       "      <td>4.03</td>\n",
       "      <td>34.7</td>\n",
       "    </tr>\n",
       "    <tr>\n",
       "      <th>3</th>\n",
       "      <td>0.03237</td>\n",
       "      <td>0.0</td>\n",
       "      <td>2.18</td>\n",
       "      <td>0</td>\n",
       "      <td>0.458</td>\n",
       "      <td>6.998</td>\n",
       "      <td>45.8</td>\n",
       "      <td>6.0622</td>\n",
       "      <td>3</td>\n",
       "      <td>222.0</td>\n",
       "      <td>18.7</td>\n",
       "      <td>394.63</td>\n",
       "      <td>2.94</td>\n",
       "      <td>33.4</td>\n",
       "    </tr>\n",
       "    <tr>\n",
       "      <th>4</th>\n",
       "      <td>0.06905</td>\n",
       "      <td>0.0</td>\n",
       "      <td>2.18</td>\n",
       "      <td>0</td>\n",
       "      <td>0.458</td>\n",
       "      <td>7.147</td>\n",
       "      <td>54.2</td>\n",
       "      <td>6.0622</td>\n",
       "      <td>3</td>\n",
       "      <td>222.0</td>\n",
       "      <td>18.7</td>\n",
       "      <td>396.90</td>\n",
       "      <td>5.33</td>\n",
       "      <td>36.2</td>\n",
       "    </tr>\n",
       "  </tbody>\n",
       "</table>\n",
       "</div>"
      ],
      "text/plain": [
       "     CRIM     ZN  INDUS  CHAS    NOX     RM   AGE     DIS  RAD    TAX  \\\n",
       "0  0.00632  18.0   2.31     0  0.538  6.575  65.2  4.0900    1  296.0   \n",
       "1  0.02731   0.0   7.07     0  0.469  6.421  78.9  4.9671    2  242.0   \n",
       "2  0.02729   0.0   7.07     0  0.469  7.185  61.1  4.9671    2  242.0   \n",
       "3  0.03237   0.0   2.18     0  0.458  6.998  45.8  6.0622    3  222.0   \n",
       "4  0.06905   0.0   2.18     0  0.458  7.147  54.2  6.0622    3  222.0   \n",
       "\n",
       "   PTRATIO       B  LSTAT  MEDV  \n",
       "0     15.3  396.90   4.98  24.0  \n",
       "1     17.8  396.90   9.14  21.6  \n",
       "2     17.8  392.83   4.03  34.7  \n",
       "3     18.7  394.63   2.94  33.4  \n",
       "4     18.7  396.90   5.33  36.2  "
      ]
     },
     "execution_count": 4,
     "metadata": {},
     "output_type": "execute_result"
    }
   ],
   "source": [
    "df.head(5)"
   ]
  },
  {
   "cell_type": "markdown",
   "metadata": {},
   "source": [
    "### Informações sobre Atributos:\n",
    "\n",
    "    01. CRIM    Taxa de criminalidade per capita por cidade\n",
    "    02. ZN      proporção de terrenos residenciais zoneada para lotes mais 25.000 pés quadrados\n",
    "    03. INDUS   proporção de hectares comerciais não varejistas por cidade\n",
    "    04. CHAS    Variável dummy Charles River (= 1 se limites do setor rio; 0 caso contrário)\n",
    "    05. NOX     Concentração de óxidos nítricos (partes por 10 milhões)\n",
    "    06. RM      média de quartos por habitação\n",
    "    07. AGE     Proporção de unidades ocupadas pelo proprietário construídas antes de 1940\n",
    "    08. DIS     Distâncias ponderadas pelo para cinco centros de emprego em Boston\n",
    "    09. RAD     Índice de acessibilidade a rodovias radiais\n",
    "    10. TAX     TAXA DE IMPOSTO DE IMPOSIÇÃO DE VALOR TOTAL POR 10.000\n",
    "    11. PTRATIO Proporção aluno-professor por cidade\n",
    "    12. B       1000(Bk - 0,63)^2 onde Bk é a proporção de negros pela cidade\n",
    "    13. LSTAT   % Status menor da população\n",
    "    14. MEDV    Valor mediano de residências ocupadas pelo proprietário em US$1000"
   ]
  },
  {
   "cell_type": "code",
   "execution_count": 5,
   "metadata": {},
   "outputs": [
    {
     "name": "stdout",
     "output_type": "stream",
     "text": [
      "<class 'pandas.core.frame.DataFrame'>\n",
      "RangeIndex: 506 entries, 0 to 505\n",
      "Data columns (total 14 columns):\n",
      "CRIM       506 non-null float64\n",
      "ZN         506 non-null float64\n",
      "INDUS      506 non-null float64\n",
      "CHAS       506 non-null int64\n",
      "NOX        506 non-null float64\n",
      "RM         506 non-null float64\n",
      "AGE        506 non-null float64\n",
      "DIS        506 non-null float64\n",
      "RAD        506 non-null int64\n",
      "TAX        506 non-null float64\n",
      "PTRATIO    506 non-null float64\n",
      "B          506 non-null float64\n",
      "LSTAT      506 non-null float64\n",
      "MEDV       506 non-null float64\n",
      "dtypes: float64(12), int64(2)\n",
      "memory usage: 55.4 KB\n"
     ]
    }
   ],
   "source": [
    "df.info()"
   ]
  },
  {
   "cell_type": "code",
   "execution_count": 6,
   "metadata": {},
   "outputs": [
    {
     "data": {
      "text/html": [
       "<div>\n",
       "<style scoped>\n",
       "    .dataframe tbody tr th:only-of-type {\n",
       "        vertical-align: middle;\n",
       "    }\n",
       "\n",
       "    .dataframe tbody tr th {\n",
       "        vertical-align: top;\n",
       "    }\n",
       "\n",
       "    .dataframe thead th {\n",
       "        text-align: right;\n",
       "    }\n",
       "</style>\n",
       "<table border=\"1\" class=\"dataframe\">\n",
       "  <thead>\n",
       "    <tr style=\"text-align: right;\">\n",
       "      <th></th>\n",
       "      <th>CRIM</th>\n",
       "      <th>ZN</th>\n",
       "      <th>INDUS</th>\n",
       "      <th>CHAS</th>\n",
       "      <th>NOX</th>\n",
       "      <th>RM</th>\n",
       "      <th>AGE</th>\n",
       "      <th>DIS</th>\n",
       "      <th>RAD</th>\n",
       "      <th>TAX</th>\n",
       "      <th>PTRATIO</th>\n",
       "      <th>B</th>\n",
       "      <th>LSTAT</th>\n",
       "      <th>MEDV</th>\n",
       "    </tr>\n",
       "  </thead>\n",
       "  <tbody>\n",
       "    <tr>\n",
       "      <th>count</th>\n",
       "      <td>506.000000</td>\n",
       "      <td>506.000000</td>\n",
       "      <td>506.000000</td>\n",
       "      <td>506.000000</td>\n",
       "      <td>506.000000</td>\n",
       "      <td>506.000000</td>\n",
       "      <td>506.000000</td>\n",
       "      <td>506.000000</td>\n",
       "      <td>506.000000</td>\n",
       "      <td>506.000000</td>\n",
       "      <td>506.000000</td>\n",
       "      <td>506.000000</td>\n",
       "      <td>506.000000</td>\n",
       "      <td>506.000000</td>\n",
       "    </tr>\n",
       "    <tr>\n",
       "      <th>mean</th>\n",
       "      <td>3.613524</td>\n",
       "      <td>11.363636</td>\n",
       "      <td>11.136779</td>\n",
       "      <td>0.069170</td>\n",
       "      <td>0.554695</td>\n",
       "      <td>6.284634</td>\n",
       "      <td>68.574901</td>\n",
       "      <td>3.795043</td>\n",
       "      <td>9.549407</td>\n",
       "      <td>408.237154</td>\n",
       "      <td>18.455534</td>\n",
       "      <td>356.674032</td>\n",
       "      <td>12.653063</td>\n",
       "      <td>22.532806</td>\n",
       "    </tr>\n",
       "    <tr>\n",
       "      <th>std</th>\n",
       "      <td>8.601545</td>\n",
       "      <td>23.322453</td>\n",
       "      <td>6.860353</td>\n",
       "      <td>0.253994</td>\n",
       "      <td>0.115878</td>\n",
       "      <td>0.702617</td>\n",
       "      <td>28.148861</td>\n",
       "      <td>2.105710</td>\n",
       "      <td>8.707259</td>\n",
       "      <td>168.537116</td>\n",
       "      <td>2.164946</td>\n",
       "      <td>91.294864</td>\n",
       "      <td>7.141062</td>\n",
       "      <td>9.197104</td>\n",
       "    </tr>\n",
       "    <tr>\n",
       "      <th>min</th>\n",
       "      <td>0.006320</td>\n",
       "      <td>0.000000</td>\n",
       "      <td>0.460000</td>\n",
       "      <td>0.000000</td>\n",
       "      <td>0.385000</td>\n",
       "      <td>3.561000</td>\n",
       "      <td>2.900000</td>\n",
       "      <td>1.129600</td>\n",
       "      <td>1.000000</td>\n",
       "      <td>187.000000</td>\n",
       "      <td>12.600000</td>\n",
       "      <td>0.320000</td>\n",
       "      <td>1.730000</td>\n",
       "      <td>5.000000</td>\n",
       "    </tr>\n",
       "    <tr>\n",
       "      <th>25%</th>\n",
       "      <td>0.082045</td>\n",
       "      <td>0.000000</td>\n",
       "      <td>5.190000</td>\n",
       "      <td>0.000000</td>\n",
       "      <td>0.449000</td>\n",
       "      <td>5.885500</td>\n",
       "      <td>45.025000</td>\n",
       "      <td>2.100175</td>\n",
       "      <td>4.000000</td>\n",
       "      <td>279.000000</td>\n",
       "      <td>17.400000</td>\n",
       "      <td>375.377500</td>\n",
       "      <td>6.950000</td>\n",
       "      <td>17.025000</td>\n",
       "    </tr>\n",
       "    <tr>\n",
       "      <th>50%</th>\n",
       "      <td>0.256510</td>\n",
       "      <td>0.000000</td>\n",
       "      <td>9.690000</td>\n",
       "      <td>0.000000</td>\n",
       "      <td>0.538000</td>\n",
       "      <td>6.208500</td>\n",
       "      <td>77.500000</td>\n",
       "      <td>3.207450</td>\n",
       "      <td>5.000000</td>\n",
       "      <td>330.000000</td>\n",
       "      <td>19.050000</td>\n",
       "      <td>391.440000</td>\n",
       "      <td>11.360000</td>\n",
       "      <td>21.200000</td>\n",
       "    </tr>\n",
       "    <tr>\n",
       "      <th>75%</th>\n",
       "      <td>3.677082</td>\n",
       "      <td>12.500000</td>\n",
       "      <td>18.100000</td>\n",
       "      <td>0.000000</td>\n",
       "      <td>0.624000</td>\n",
       "      <td>6.623500</td>\n",
       "      <td>94.075000</td>\n",
       "      <td>5.188425</td>\n",
       "      <td>24.000000</td>\n",
       "      <td>666.000000</td>\n",
       "      <td>20.200000</td>\n",
       "      <td>396.225000</td>\n",
       "      <td>16.955000</td>\n",
       "      <td>25.000000</td>\n",
       "    </tr>\n",
       "    <tr>\n",
       "      <th>max</th>\n",
       "      <td>88.976200</td>\n",
       "      <td>100.000000</td>\n",
       "      <td>27.740000</td>\n",
       "      <td>1.000000</td>\n",
       "      <td>0.871000</td>\n",
       "      <td>8.780000</td>\n",
       "      <td>100.000000</td>\n",
       "      <td>12.126500</td>\n",
       "      <td>24.000000</td>\n",
       "      <td>711.000000</td>\n",
       "      <td>22.000000</td>\n",
       "      <td>396.900000</td>\n",
       "      <td>37.970000</td>\n",
       "      <td>50.000000</td>\n",
       "    </tr>\n",
       "  </tbody>\n",
       "</table>\n",
       "</div>"
      ],
      "text/plain": [
       "            CRIM           ZN       INDUS        CHAS         NOX          RM  \\\n",
       "count  506.000000  506.000000  506.000000  506.000000  506.000000  506.000000   \n",
       "mean     3.613524   11.363636   11.136779    0.069170    0.554695    6.284634   \n",
       "std      8.601545   23.322453    6.860353    0.253994    0.115878    0.702617   \n",
       "min      0.006320    0.000000    0.460000    0.000000    0.385000    3.561000   \n",
       "25%      0.082045    0.000000    5.190000    0.000000    0.449000    5.885500   \n",
       "50%      0.256510    0.000000    9.690000    0.000000    0.538000    6.208500   \n",
       "75%      3.677082   12.500000   18.100000    0.000000    0.624000    6.623500   \n",
       "max     88.976200  100.000000   27.740000    1.000000    0.871000    8.780000   \n",
       "\n",
       "              AGE         DIS         RAD         TAX     PTRATIO           B  \\\n",
       "count  506.000000  506.000000  506.000000  506.000000  506.000000  506.000000   \n",
       "mean    68.574901    3.795043    9.549407  408.237154   18.455534  356.674032   \n",
       "std     28.148861    2.105710    8.707259  168.537116    2.164946   91.294864   \n",
       "min      2.900000    1.129600    1.000000  187.000000   12.600000    0.320000   \n",
       "25%     45.025000    2.100175    4.000000  279.000000   17.400000  375.377500   \n",
       "50%     77.500000    3.207450    5.000000  330.000000   19.050000  391.440000   \n",
       "75%     94.075000    5.188425   24.000000  666.000000   20.200000  396.225000   \n",
       "max    100.000000   12.126500   24.000000  711.000000   22.000000  396.900000   \n",
       "\n",
       "            LSTAT        MEDV  \n",
       "count  506.000000  506.000000  \n",
       "mean    12.653063   22.532806  \n",
       "std      7.141062    9.197104  \n",
       "min      1.730000    5.000000  \n",
       "25%      6.950000   17.025000  \n",
       "50%     11.360000   21.200000  \n",
       "75%     16.955000   25.000000  \n",
       "max     37.970000   50.000000  "
      ]
     },
     "execution_count": 6,
     "metadata": {},
     "output_type": "execute_result"
    }
   ],
   "source": [
    "df.describe()"
   ]
  },
  {
   "cell_type": "code",
   "execution_count": 7,
   "metadata": {},
   "outputs": [],
   "source": [
    "df.hist(bins=20, figsize=(15,15));"
   ]
  },
  {
   "cell_type": "code",
   "execution_count": 8,
   "metadata": {},
   "outputs": [
    {
     "data": {
      "text/html": [
       "<style  type=\"text/css\" >\n",
       "</style>  \n",
       "<table id=\"T_b75796ba_5a69_11e9_8788_dbe828df4a9c\" > \n",
       "<thead>    <tr> \n",
       "        <th class=\"blank level0\" ></th> \n",
       "        <th class=\"col_heading level0 col0\" >CRIM </th> \n",
       "        <th class=\"col_heading level0 col1\" >ZN</th> \n",
       "        <th class=\"col_heading level0 col2\" >INDUS</th> \n",
       "        <th class=\"col_heading level0 col3\" >CHAS</th> \n",
       "        <th class=\"col_heading level0 col4\" >NOX</th> \n",
       "        <th class=\"col_heading level0 col5\" >RM</th> \n",
       "        <th class=\"col_heading level0 col6\" >AGE</th> \n",
       "        <th class=\"col_heading level0 col7\" >DIS</th> \n",
       "        <th class=\"col_heading level0 col8\" >RAD</th> \n",
       "        <th class=\"col_heading level0 col9\" >TAX</th> \n",
       "        <th class=\"col_heading level0 col10\" >PTRATIO</th> \n",
       "        <th class=\"col_heading level0 col11\" >B</th> \n",
       "        <th class=\"col_heading level0 col12\" >LSTAT</th> \n",
       "        <th class=\"col_heading level0 col13\" >MEDV</th> \n",
       "    </tr></thead> \n",
       "<tbody>    <tr> \n",
       "        <th id=\"T_b75796ba_5a69_11e9_8788_dbe828df4a9clevel0_row0\" class=\"row_heading level0 row0\" >CRIM </th> \n",
       "        <td id=\"T_b75796ba_5a69_11e9_8788_dbe828df4a9crow0_col0\" class=\"data row0 col0\" >1</td> \n",
       "        <td id=\"T_b75796ba_5a69_11e9_8788_dbe828df4a9crow0_col1\" class=\"data row0 col1\" >-0.2005</td> \n",
       "        <td id=\"T_b75796ba_5a69_11e9_8788_dbe828df4a9crow0_col2\" class=\"data row0 col2\" >0.4066</td> \n",
       "        <td id=\"T_b75796ba_5a69_11e9_8788_dbe828df4a9crow0_col3\" class=\"data row0 col3\" >-0.05589</td> \n",
       "        <td id=\"T_b75796ba_5a69_11e9_8788_dbe828df4a9crow0_col4\" class=\"data row0 col4\" >0.421</td> \n",
       "        <td id=\"T_b75796ba_5a69_11e9_8788_dbe828df4a9crow0_col5\" class=\"data row0 col5\" >-0.2192</td> \n",
       "        <td id=\"T_b75796ba_5a69_11e9_8788_dbe828df4a9crow0_col6\" class=\"data row0 col6\" >0.3527</td> \n",
       "        <td id=\"T_b75796ba_5a69_11e9_8788_dbe828df4a9crow0_col7\" class=\"data row0 col7\" >-0.3797</td> \n",
       "        <td id=\"T_b75796ba_5a69_11e9_8788_dbe828df4a9crow0_col8\" class=\"data row0 col8\" >0.6255</td> \n",
       "        <td id=\"T_b75796ba_5a69_11e9_8788_dbe828df4a9crow0_col9\" class=\"data row0 col9\" >0.5828</td> \n",
       "        <td id=\"T_b75796ba_5a69_11e9_8788_dbe828df4a9crow0_col10\" class=\"data row0 col10\" >0.2899</td> \n",
       "        <td id=\"T_b75796ba_5a69_11e9_8788_dbe828df4a9crow0_col11\" class=\"data row0 col11\" >-0.3851</td> \n",
       "        <td id=\"T_b75796ba_5a69_11e9_8788_dbe828df4a9crow0_col12\" class=\"data row0 col12\" >0.4556</td> \n",
       "        <td id=\"T_b75796ba_5a69_11e9_8788_dbe828df4a9crow0_col13\" class=\"data row0 col13\" >-0.3883</td> \n",
       "    </tr>    <tr> \n",
       "        <th id=\"T_b75796ba_5a69_11e9_8788_dbe828df4a9clevel0_row1\" class=\"row_heading level0 row1\" >ZN</th> \n",
       "        <td id=\"T_b75796ba_5a69_11e9_8788_dbe828df4a9crow1_col0\" class=\"data row1 col0\" >-0.2005</td> \n",
       "        <td id=\"T_b75796ba_5a69_11e9_8788_dbe828df4a9crow1_col1\" class=\"data row1 col1\" >1</td> \n",
       "        <td id=\"T_b75796ba_5a69_11e9_8788_dbe828df4a9crow1_col2\" class=\"data row1 col2\" >-0.5338</td> \n",
       "        <td id=\"T_b75796ba_5a69_11e9_8788_dbe828df4a9crow1_col3\" class=\"data row1 col3\" >-0.0427</td> \n",
       "        <td id=\"T_b75796ba_5a69_11e9_8788_dbe828df4a9crow1_col4\" class=\"data row1 col4\" >-0.5166</td> \n",
       "        <td id=\"T_b75796ba_5a69_11e9_8788_dbe828df4a9crow1_col5\" class=\"data row1 col5\" >0.312</td> \n",
       "        <td id=\"T_b75796ba_5a69_11e9_8788_dbe828df4a9crow1_col6\" class=\"data row1 col6\" >-0.5695</td> \n",
       "        <td id=\"T_b75796ba_5a69_11e9_8788_dbe828df4a9crow1_col7\" class=\"data row1 col7\" >0.6644</td> \n",
       "        <td id=\"T_b75796ba_5a69_11e9_8788_dbe828df4a9crow1_col8\" class=\"data row1 col8\" >-0.3119</td> \n",
       "        <td id=\"T_b75796ba_5a69_11e9_8788_dbe828df4a9crow1_col9\" class=\"data row1 col9\" >-0.3146</td> \n",
       "        <td id=\"T_b75796ba_5a69_11e9_8788_dbe828df4a9crow1_col10\" class=\"data row1 col10\" >-0.3917</td> \n",
       "        <td id=\"T_b75796ba_5a69_11e9_8788_dbe828df4a9crow1_col11\" class=\"data row1 col11\" >0.1755</td> \n",
       "        <td id=\"T_b75796ba_5a69_11e9_8788_dbe828df4a9crow1_col12\" class=\"data row1 col12\" >-0.413</td> \n",
       "        <td id=\"T_b75796ba_5a69_11e9_8788_dbe828df4a9crow1_col13\" class=\"data row1 col13\" >0.3604</td> \n",
       "    </tr>    <tr> \n",
       "        <th id=\"T_b75796ba_5a69_11e9_8788_dbe828df4a9clevel0_row2\" class=\"row_heading level0 row2\" >INDUS</th> \n",
       "        <td id=\"T_b75796ba_5a69_11e9_8788_dbe828df4a9crow2_col0\" class=\"data row2 col0\" >0.4066</td> \n",
       "        <td id=\"T_b75796ba_5a69_11e9_8788_dbe828df4a9crow2_col1\" class=\"data row2 col1\" >-0.5338</td> \n",
       "        <td id=\"T_b75796ba_5a69_11e9_8788_dbe828df4a9crow2_col2\" class=\"data row2 col2\" >1</td> \n",
       "        <td id=\"T_b75796ba_5a69_11e9_8788_dbe828df4a9crow2_col3\" class=\"data row2 col3\" >0.06294</td> \n",
       "        <td id=\"T_b75796ba_5a69_11e9_8788_dbe828df4a9crow2_col4\" class=\"data row2 col4\" >0.7637</td> \n",
       "        <td id=\"T_b75796ba_5a69_11e9_8788_dbe828df4a9crow2_col5\" class=\"data row2 col5\" >-0.3917</td> \n",
       "        <td id=\"T_b75796ba_5a69_11e9_8788_dbe828df4a9crow2_col6\" class=\"data row2 col6\" >0.6448</td> \n",
       "        <td id=\"T_b75796ba_5a69_11e9_8788_dbe828df4a9crow2_col7\" class=\"data row2 col7\" >-0.708</td> \n",
       "        <td id=\"T_b75796ba_5a69_11e9_8788_dbe828df4a9crow2_col8\" class=\"data row2 col8\" >0.5951</td> \n",
       "        <td id=\"T_b75796ba_5a69_11e9_8788_dbe828df4a9crow2_col9\" class=\"data row2 col9\" >0.7208</td> \n",
       "        <td id=\"T_b75796ba_5a69_11e9_8788_dbe828df4a9crow2_col10\" class=\"data row2 col10\" >0.3832</td> \n",
       "        <td id=\"T_b75796ba_5a69_11e9_8788_dbe828df4a9crow2_col11\" class=\"data row2 col11\" >-0.357</td> \n",
       "        <td id=\"T_b75796ba_5a69_11e9_8788_dbe828df4a9crow2_col12\" class=\"data row2 col12\" >0.6038</td> \n",
       "        <td id=\"T_b75796ba_5a69_11e9_8788_dbe828df4a9crow2_col13\" class=\"data row2 col13\" >-0.4837</td> \n",
       "    </tr>    <tr> \n",
       "        <th id=\"T_b75796ba_5a69_11e9_8788_dbe828df4a9clevel0_row3\" class=\"row_heading level0 row3\" >CHAS</th> \n",
       "        <td id=\"T_b75796ba_5a69_11e9_8788_dbe828df4a9crow3_col0\" class=\"data row3 col0\" >-0.05589</td> \n",
       "        <td id=\"T_b75796ba_5a69_11e9_8788_dbe828df4a9crow3_col1\" class=\"data row3 col1\" >-0.0427</td> \n",
       "        <td id=\"T_b75796ba_5a69_11e9_8788_dbe828df4a9crow3_col2\" class=\"data row3 col2\" >0.06294</td> \n",
       "        <td id=\"T_b75796ba_5a69_11e9_8788_dbe828df4a9crow3_col3\" class=\"data row3 col3\" >1</td> \n",
       "        <td id=\"T_b75796ba_5a69_11e9_8788_dbe828df4a9crow3_col4\" class=\"data row3 col4\" >0.0912</td> \n",
       "        <td id=\"T_b75796ba_5a69_11e9_8788_dbe828df4a9crow3_col5\" class=\"data row3 col5\" >0.09125</td> \n",
       "        <td id=\"T_b75796ba_5a69_11e9_8788_dbe828df4a9crow3_col6\" class=\"data row3 col6\" >0.08652</td> \n",
       "        <td id=\"T_b75796ba_5a69_11e9_8788_dbe828df4a9crow3_col7\" class=\"data row3 col7\" >-0.09918</td> \n",
       "        <td id=\"T_b75796ba_5a69_11e9_8788_dbe828df4a9crow3_col8\" class=\"data row3 col8\" >-0.007368</td> \n",
       "        <td id=\"T_b75796ba_5a69_11e9_8788_dbe828df4a9crow3_col9\" class=\"data row3 col9\" >-0.03559</td> \n",
       "        <td id=\"T_b75796ba_5a69_11e9_8788_dbe828df4a9crow3_col10\" class=\"data row3 col10\" >-0.1215</td> \n",
       "        <td id=\"T_b75796ba_5a69_11e9_8788_dbe828df4a9crow3_col11\" class=\"data row3 col11\" >0.04879</td> \n",
       "        <td id=\"T_b75796ba_5a69_11e9_8788_dbe828df4a9crow3_col12\" class=\"data row3 col12\" >-0.05393</td> \n",
       "        <td id=\"T_b75796ba_5a69_11e9_8788_dbe828df4a9crow3_col13\" class=\"data row3 col13\" >0.1753</td> \n",
       "    </tr>    <tr> \n",
       "        <th id=\"T_b75796ba_5a69_11e9_8788_dbe828df4a9clevel0_row4\" class=\"row_heading level0 row4\" >NOX</th> \n",
       "        <td id=\"T_b75796ba_5a69_11e9_8788_dbe828df4a9crow4_col0\" class=\"data row4 col0\" >0.421</td> \n",
       "        <td id=\"T_b75796ba_5a69_11e9_8788_dbe828df4a9crow4_col1\" class=\"data row4 col1\" >-0.5166</td> \n",
       "        <td id=\"T_b75796ba_5a69_11e9_8788_dbe828df4a9crow4_col2\" class=\"data row4 col2\" >0.7637</td> \n",
       "        <td id=\"T_b75796ba_5a69_11e9_8788_dbe828df4a9crow4_col3\" class=\"data row4 col3\" >0.0912</td> \n",
       "        <td id=\"T_b75796ba_5a69_11e9_8788_dbe828df4a9crow4_col4\" class=\"data row4 col4\" >1</td> \n",
       "        <td id=\"T_b75796ba_5a69_11e9_8788_dbe828df4a9crow4_col5\" class=\"data row4 col5\" >-0.3022</td> \n",
       "        <td id=\"T_b75796ba_5a69_11e9_8788_dbe828df4a9crow4_col6\" class=\"data row4 col6\" >0.7315</td> \n",
       "        <td id=\"T_b75796ba_5a69_11e9_8788_dbe828df4a9crow4_col7\" class=\"data row4 col7\" >-0.7692</td> \n",
       "        <td id=\"T_b75796ba_5a69_11e9_8788_dbe828df4a9crow4_col8\" class=\"data row4 col8\" >0.6114</td> \n",
       "        <td id=\"T_b75796ba_5a69_11e9_8788_dbe828df4a9crow4_col9\" class=\"data row4 col9\" >0.668</td> \n",
       "        <td id=\"T_b75796ba_5a69_11e9_8788_dbe828df4a9crow4_col10\" class=\"data row4 col10\" >0.1889</td> \n",
       "        <td id=\"T_b75796ba_5a69_11e9_8788_dbe828df4a9crow4_col11\" class=\"data row4 col11\" >-0.3801</td> \n",
       "        <td id=\"T_b75796ba_5a69_11e9_8788_dbe828df4a9crow4_col12\" class=\"data row4 col12\" >0.5909</td> \n",
       "        <td id=\"T_b75796ba_5a69_11e9_8788_dbe828df4a9crow4_col13\" class=\"data row4 col13\" >-0.4273</td> \n",
       "    </tr>    <tr> \n",
       "        <th id=\"T_b75796ba_5a69_11e9_8788_dbe828df4a9clevel0_row5\" class=\"row_heading level0 row5\" >RM</th> \n",
       "        <td id=\"T_b75796ba_5a69_11e9_8788_dbe828df4a9crow5_col0\" class=\"data row5 col0\" >-0.2192</td> \n",
       "        <td id=\"T_b75796ba_5a69_11e9_8788_dbe828df4a9crow5_col1\" class=\"data row5 col1\" >0.312</td> \n",
       "        <td id=\"T_b75796ba_5a69_11e9_8788_dbe828df4a9crow5_col2\" class=\"data row5 col2\" >-0.3917</td> \n",
       "        <td id=\"T_b75796ba_5a69_11e9_8788_dbe828df4a9crow5_col3\" class=\"data row5 col3\" >0.09125</td> \n",
       "        <td id=\"T_b75796ba_5a69_11e9_8788_dbe828df4a9crow5_col4\" class=\"data row5 col4\" >-0.3022</td> \n",
       "        <td id=\"T_b75796ba_5a69_11e9_8788_dbe828df4a9crow5_col5\" class=\"data row5 col5\" >1</td> \n",
       "        <td id=\"T_b75796ba_5a69_11e9_8788_dbe828df4a9crow5_col6\" class=\"data row5 col6\" >-0.2403</td> \n",
       "        <td id=\"T_b75796ba_5a69_11e9_8788_dbe828df4a9crow5_col7\" class=\"data row5 col7\" >0.2052</td> \n",
       "        <td id=\"T_b75796ba_5a69_11e9_8788_dbe828df4a9crow5_col8\" class=\"data row5 col8\" >-0.2098</td> \n",
       "        <td id=\"T_b75796ba_5a69_11e9_8788_dbe828df4a9crow5_col9\" class=\"data row5 col9\" >-0.292</td> \n",
       "        <td id=\"T_b75796ba_5a69_11e9_8788_dbe828df4a9crow5_col10\" class=\"data row5 col10\" >-0.3555</td> \n",
       "        <td id=\"T_b75796ba_5a69_11e9_8788_dbe828df4a9crow5_col11\" class=\"data row5 col11\" >0.1281</td> \n",
       "        <td id=\"T_b75796ba_5a69_11e9_8788_dbe828df4a9crow5_col12\" class=\"data row5 col12\" >-0.6138</td> \n",
       "        <td id=\"T_b75796ba_5a69_11e9_8788_dbe828df4a9crow5_col13\" class=\"data row5 col13\" >0.6954</td> \n",
       "    </tr>    <tr> \n",
       "        <th id=\"T_b75796ba_5a69_11e9_8788_dbe828df4a9clevel0_row6\" class=\"row_heading level0 row6\" >AGE</th> \n",
       "        <td id=\"T_b75796ba_5a69_11e9_8788_dbe828df4a9crow6_col0\" class=\"data row6 col0\" >0.3527</td> \n",
       "        <td id=\"T_b75796ba_5a69_11e9_8788_dbe828df4a9crow6_col1\" class=\"data row6 col1\" >-0.5695</td> \n",
       "        <td id=\"T_b75796ba_5a69_11e9_8788_dbe828df4a9crow6_col2\" class=\"data row6 col2\" >0.6448</td> \n",
       "        <td id=\"T_b75796ba_5a69_11e9_8788_dbe828df4a9crow6_col3\" class=\"data row6 col3\" >0.08652</td> \n",
       "        <td id=\"T_b75796ba_5a69_11e9_8788_dbe828df4a9crow6_col4\" class=\"data row6 col4\" >0.7315</td> \n",
       "        <td id=\"T_b75796ba_5a69_11e9_8788_dbe828df4a9crow6_col5\" class=\"data row6 col5\" >-0.2403</td> \n",
       "        <td id=\"T_b75796ba_5a69_11e9_8788_dbe828df4a9crow6_col6\" class=\"data row6 col6\" >1</td> \n",
       "        <td id=\"T_b75796ba_5a69_11e9_8788_dbe828df4a9crow6_col7\" class=\"data row6 col7\" >-0.7479</td> \n",
       "        <td id=\"T_b75796ba_5a69_11e9_8788_dbe828df4a9crow6_col8\" class=\"data row6 col8\" >0.456</td> \n",
       "        <td id=\"T_b75796ba_5a69_11e9_8788_dbe828df4a9crow6_col9\" class=\"data row6 col9\" >0.5065</td> \n",
       "        <td id=\"T_b75796ba_5a69_11e9_8788_dbe828df4a9crow6_col10\" class=\"data row6 col10\" >0.2615</td> \n",
       "        <td id=\"T_b75796ba_5a69_11e9_8788_dbe828df4a9crow6_col11\" class=\"data row6 col11\" >-0.2735</td> \n",
       "        <td id=\"T_b75796ba_5a69_11e9_8788_dbe828df4a9crow6_col12\" class=\"data row6 col12\" >0.6023</td> \n",
       "        <td id=\"T_b75796ba_5a69_11e9_8788_dbe828df4a9crow6_col13\" class=\"data row6 col13\" >-0.377</td> \n",
       "    </tr>    <tr> \n",
       "        <th id=\"T_b75796ba_5a69_11e9_8788_dbe828df4a9clevel0_row7\" class=\"row_heading level0 row7\" >DIS</th> \n",
       "        <td id=\"T_b75796ba_5a69_11e9_8788_dbe828df4a9crow7_col0\" class=\"data row7 col0\" >-0.3797</td> \n",
       "        <td id=\"T_b75796ba_5a69_11e9_8788_dbe828df4a9crow7_col1\" class=\"data row7 col1\" >0.6644</td> \n",
       "        <td id=\"T_b75796ba_5a69_11e9_8788_dbe828df4a9crow7_col2\" class=\"data row7 col2\" >-0.708</td> \n",
       "        <td id=\"T_b75796ba_5a69_11e9_8788_dbe828df4a9crow7_col3\" class=\"data row7 col3\" >-0.09918</td> \n",
       "        <td id=\"T_b75796ba_5a69_11e9_8788_dbe828df4a9crow7_col4\" class=\"data row7 col4\" >-0.7692</td> \n",
       "        <td id=\"T_b75796ba_5a69_11e9_8788_dbe828df4a9crow7_col5\" class=\"data row7 col5\" >0.2052</td> \n",
       "        <td id=\"T_b75796ba_5a69_11e9_8788_dbe828df4a9crow7_col6\" class=\"data row7 col6\" >-0.7479</td> \n",
       "        <td id=\"T_b75796ba_5a69_11e9_8788_dbe828df4a9crow7_col7\" class=\"data row7 col7\" >1</td> \n",
       "        <td id=\"T_b75796ba_5a69_11e9_8788_dbe828df4a9crow7_col8\" class=\"data row7 col8\" >-0.4946</td> \n",
       "        <td id=\"T_b75796ba_5a69_11e9_8788_dbe828df4a9crow7_col9\" class=\"data row7 col9\" >-0.5344</td> \n",
       "        <td id=\"T_b75796ba_5a69_11e9_8788_dbe828df4a9crow7_col10\" class=\"data row7 col10\" >-0.2325</td> \n",
       "        <td id=\"T_b75796ba_5a69_11e9_8788_dbe828df4a9crow7_col11\" class=\"data row7 col11\" >0.2915</td> \n",
       "        <td id=\"T_b75796ba_5a69_11e9_8788_dbe828df4a9crow7_col12\" class=\"data row7 col12\" >-0.497</td> \n",
       "        <td id=\"T_b75796ba_5a69_11e9_8788_dbe828df4a9crow7_col13\" class=\"data row7 col13\" >0.2499</td> \n",
       "    </tr>    <tr> \n",
       "        <th id=\"T_b75796ba_5a69_11e9_8788_dbe828df4a9clevel0_row8\" class=\"row_heading level0 row8\" >RAD</th> \n",
       "        <td id=\"T_b75796ba_5a69_11e9_8788_dbe828df4a9crow8_col0\" class=\"data row8 col0\" >0.6255</td> \n",
       "        <td id=\"T_b75796ba_5a69_11e9_8788_dbe828df4a9crow8_col1\" class=\"data row8 col1\" >-0.3119</td> \n",
       "        <td id=\"T_b75796ba_5a69_11e9_8788_dbe828df4a9crow8_col2\" class=\"data row8 col2\" >0.5951</td> \n",
       "        <td id=\"T_b75796ba_5a69_11e9_8788_dbe828df4a9crow8_col3\" class=\"data row8 col3\" >-0.007368</td> \n",
       "        <td id=\"T_b75796ba_5a69_11e9_8788_dbe828df4a9crow8_col4\" class=\"data row8 col4\" >0.6114</td> \n",
       "        <td id=\"T_b75796ba_5a69_11e9_8788_dbe828df4a9crow8_col5\" class=\"data row8 col5\" >-0.2098</td> \n",
       "        <td id=\"T_b75796ba_5a69_11e9_8788_dbe828df4a9crow8_col6\" class=\"data row8 col6\" >0.456</td> \n",
       "        <td id=\"T_b75796ba_5a69_11e9_8788_dbe828df4a9crow8_col7\" class=\"data row8 col7\" >-0.4946</td> \n",
       "        <td id=\"T_b75796ba_5a69_11e9_8788_dbe828df4a9crow8_col8\" class=\"data row8 col8\" >1</td> \n",
       "        <td id=\"T_b75796ba_5a69_11e9_8788_dbe828df4a9crow8_col9\" class=\"data row8 col9\" >0.9102</td> \n",
       "        <td id=\"T_b75796ba_5a69_11e9_8788_dbe828df4a9crow8_col10\" class=\"data row8 col10\" >0.4647</td> \n",
       "        <td id=\"T_b75796ba_5a69_11e9_8788_dbe828df4a9crow8_col11\" class=\"data row8 col11\" >-0.4444</td> \n",
       "        <td id=\"T_b75796ba_5a69_11e9_8788_dbe828df4a9crow8_col12\" class=\"data row8 col12\" >0.4887</td> \n",
       "        <td id=\"T_b75796ba_5a69_11e9_8788_dbe828df4a9crow8_col13\" class=\"data row8 col13\" >-0.3816</td> \n",
       "    </tr>    <tr> \n",
       "        <th id=\"T_b75796ba_5a69_11e9_8788_dbe828df4a9clevel0_row9\" class=\"row_heading level0 row9\" >TAX</th> \n",
       "        <td id=\"T_b75796ba_5a69_11e9_8788_dbe828df4a9crow9_col0\" class=\"data row9 col0\" >0.5828</td> \n",
       "        <td id=\"T_b75796ba_5a69_11e9_8788_dbe828df4a9crow9_col1\" class=\"data row9 col1\" >-0.3146</td> \n",
       "        <td id=\"T_b75796ba_5a69_11e9_8788_dbe828df4a9crow9_col2\" class=\"data row9 col2\" >0.7208</td> \n",
       "        <td id=\"T_b75796ba_5a69_11e9_8788_dbe828df4a9crow9_col3\" class=\"data row9 col3\" >-0.03559</td> \n",
       "        <td id=\"T_b75796ba_5a69_11e9_8788_dbe828df4a9crow9_col4\" class=\"data row9 col4\" >0.668</td> \n",
       "        <td id=\"T_b75796ba_5a69_11e9_8788_dbe828df4a9crow9_col5\" class=\"data row9 col5\" >-0.292</td> \n",
       "        <td id=\"T_b75796ba_5a69_11e9_8788_dbe828df4a9crow9_col6\" class=\"data row9 col6\" >0.5065</td> \n",
       "        <td id=\"T_b75796ba_5a69_11e9_8788_dbe828df4a9crow9_col7\" class=\"data row9 col7\" >-0.5344</td> \n",
       "        <td id=\"T_b75796ba_5a69_11e9_8788_dbe828df4a9crow9_col8\" class=\"data row9 col8\" >0.9102</td> \n",
       "        <td id=\"T_b75796ba_5a69_11e9_8788_dbe828df4a9crow9_col9\" class=\"data row9 col9\" >1</td> \n",
       "        <td id=\"T_b75796ba_5a69_11e9_8788_dbe828df4a9crow9_col10\" class=\"data row9 col10\" >0.4609</td> \n",
       "        <td id=\"T_b75796ba_5a69_11e9_8788_dbe828df4a9crow9_col11\" class=\"data row9 col11\" >-0.4418</td> \n",
       "        <td id=\"T_b75796ba_5a69_11e9_8788_dbe828df4a9crow9_col12\" class=\"data row9 col12\" >0.544</td> \n",
       "        <td id=\"T_b75796ba_5a69_11e9_8788_dbe828df4a9crow9_col13\" class=\"data row9 col13\" >-0.4685</td> \n",
       "    </tr>    <tr> \n",
       "        <th id=\"T_b75796ba_5a69_11e9_8788_dbe828df4a9clevel0_row10\" class=\"row_heading level0 row10\" >PTRATIO</th> \n",
       "        <td id=\"T_b75796ba_5a69_11e9_8788_dbe828df4a9crow10_col0\" class=\"data row10 col0\" >0.2899</td> \n",
       "        <td id=\"T_b75796ba_5a69_11e9_8788_dbe828df4a9crow10_col1\" class=\"data row10 col1\" >-0.3917</td> \n",
       "        <td id=\"T_b75796ba_5a69_11e9_8788_dbe828df4a9crow10_col2\" class=\"data row10 col2\" >0.3832</td> \n",
       "        <td id=\"T_b75796ba_5a69_11e9_8788_dbe828df4a9crow10_col3\" class=\"data row10 col3\" >-0.1215</td> \n",
       "        <td id=\"T_b75796ba_5a69_11e9_8788_dbe828df4a9crow10_col4\" class=\"data row10 col4\" >0.1889</td> \n",
       "        <td id=\"T_b75796ba_5a69_11e9_8788_dbe828df4a9crow10_col5\" class=\"data row10 col5\" >-0.3555</td> \n",
       "        <td id=\"T_b75796ba_5a69_11e9_8788_dbe828df4a9crow10_col6\" class=\"data row10 col6\" >0.2615</td> \n",
       "        <td id=\"T_b75796ba_5a69_11e9_8788_dbe828df4a9crow10_col7\" class=\"data row10 col7\" >-0.2325</td> \n",
       "        <td id=\"T_b75796ba_5a69_11e9_8788_dbe828df4a9crow10_col8\" class=\"data row10 col8\" >0.4647</td> \n",
       "        <td id=\"T_b75796ba_5a69_11e9_8788_dbe828df4a9crow10_col9\" class=\"data row10 col9\" >0.4609</td> \n",
       "        <td id=\"T_b75796ba_5a69_11e9_8788_dbe828df4a9crow10_col10\" class=\"data row10 col10\" >1</td> \n",
       "        <td id=\"T_b75796ba_5a69_11e9_8788_dbe828df4a9crow10_col11\" class=\"data row10 col11\" >-0.1774</td> \n",
       "        <td id=\"T_b75796ba_5a69_11e9_8788_dbe828df4a9crow10_col12\" class=\"data row10 col12\" >0.374</td> \n",
       "        <td id=\"T_b75796ba_5a69_11e9_8788_dbe828df4a9crow10_col13\" class=\"data row10 col13\" >-0.5078</td> \n",
       "    </tr>    <tr> \n",
       "        <th id=\"T_b75796ba_5a69_11e9_8788_dbe828df4a9clevel0_row11\" class=\"row_heading level0 row11\" >B</th> \n",
       "        <td id=\"T_b75796ba_5a69_11e9_8788_dbe828df4a9crow11_col0\" class=\"data row11 col0\" >-0.3851</td> \n",
       "        <td id=\"T_b75796ba_5a69_11e9_8788_dbe828df4a9crow11_col1\" class=\"data row11 col1\" >0.1755</td> \n",
       "        <td id=\"T_b75796ba_5a69_11e9_8788_dbe828df4a9crow11_col2\" class=\"data row11 col2\" >-0.357</td> \n",
       "        <td id=\"T_b75796ba_5a69_11e9_8788_dbe828df4a9crow11_col3\" class=\"data row11 col3\" >0.04879</td> \n",
       "        <td id=\"T_b75796ba_5a69_11e9_8788_dbe828df4a9crow11_col4\" class=\"data row11 col4\" >-0.3801</td> \n",
       "        <td id=\"T_b75796ba_5a69_11e9_8788_dbe828df4a9crow11_col5\" class=\"data row11 col5\" >0.1281</td> \n",
       "        <td id=\"T_b75796ba_5a69_11e9_8788_dbe828df4a9crow11_col6\" class=\"data row11 col6\" >-0.2735</td> \n",
       "        <td id=\"T_b75796ba_5a69_11e9_8788_dbe828df4a9crow11_col7\" class=\"data row11 col7\" >0.2915</td> \n",
       "        <td id=\"T_b75796ba_5a69_11e9_8788_dbe828df4a9crow11_col8\" class=\"data row11 col8\" >-0.4444</td> \n",
       "        <td id=\"T_b75796ba_5a69_11e9_8788_dbe828df4a9crow11_col9\" class=\"data row11 col9\" >-0.4418</td> \n",
       "        <td id=\"T_b75796ba_5a69_11e9_8788_dbe828df4a9crow11_col10\" class=\"data row11 col10\" >-0.1774</td> \n",
       "        <td id=\"T_b75796ba_5a69_11e9_8788_dbe828df4a9crow11_col11\" class=\"data row11 col11\" >1</td> \n",
       "        <td id=\"T_b75796ba_5a69_11e9_8788_dbe828df4a9crow11_col12\" class=\"data row11 col12\" >-0.3661</td> \n",
       "        <td id=\"T_b75796ba_5a69_11e9_8788_dbe828df4a9crow11_col13\" class=\"data row11 col13\" >0.3335</td> \n",
       "    </tr>    <tr> \n",
       "        <th id=\"T_b75796ba_5a69_11e9_8788_dbe828df4a9clevel0_row12\" class=\"row_heading level0 row12\" >LSTAT</th> \n",
       "        <td id=\"T_b75796ba_5a69_11e9_8788_dbe828df4a9crow12_col0\" class=\"data row12 col0\" >0.4556</td> \n",
       "        <td id=\"T_b75796ba_5a69_11e9_8788_dbe828df4a9crow12_col1\" class=\"data row12 col1\" >-0.413</td> \n",
       "        <td id=\"T_b75796ba_5a69_11e9_8788_dbe828df4a9crow12_col2\" class=\"data row12 col2\" >0.6038</td> \n",
       "        <td id=\"T_b75796ba_5a69_11e9_8788_dbe828df4a9crow12_col3\" class=\"data row12 col3\" >-0.05393</td> \n",
       "        <td id=\"T_b75796ba_5a69_11e9_8788_dbe828df4a9crow12_col4\" class=\"data row12 col4\" >0.5909</td> \n",
       "        <td id=\"T_b75796ba_5a69_11e9_8788_dbe828df4a9crow12_col5\" class=\"data row12 col5\" >-0.6138</td> \n",
       "        <td id=\"T_b75796ba_5a69_11e9_8788_dbe828df4a9crow12_col6\" class=\"data row12 col6\" >0.6023</td> \n",
       "        <td id=\"T_b75796ba_5a69_11e9_8788_dbe828df4a9crow12_col7\" class=\"data row12 col7\" >-0.497</td> \n",
       "        <td id=\"T_b75796ba_5a69_11e9_8788_dbe828df4a9crow12_col8\" class=\"data row12 col8\" >0.4887</td> \n",
       "        <td id=\"T_b75796ba_5a69_11e9_8788_dbe828df4a9crow12_col9\" class=\"data row12 col9\" >0.544</td> \n",
       "        <td id=\"T_b75796ba_5a69_11e9_8788_dbe828df4a9crow12_col10\" class=\"data row12 col10\" >0.374</td> \n",
       "        <td id=\"T_b75796ba_5a69_11e9_8788_dbe828df4a9crow12_col11\" class=\"data row12 col11\" >-0.3661</td> \n",
       "        <td id=\"T_b75796ba_5a69_11e9_8788_dbe828df4a9crow12_col12\" class=\"data row12 col12\" >1</td> \n",
       "        <td id=\"T_b75796ba_5a69_11e9_8788_dbe828df4a9crow12_col13\" class=\"data row12 col13\" >-0.7377</td> \n",
       "    </tr>    <tr> \n",
       "        <th id=\"T_b75796ba_5a69_11e9_8788_dbe828df4a9clevel0_row13\" class=\"row_heading level0 row13\" >MEDV</th> \n",
       "        <td id=\"T_b75796ba_5a69_11e9_8788_dbe828df4a9crow13_col0\" class=\"data row13 col0\" >-0.3883</td> \n",
       "        <td id=\"T_b75796ba_5a69_11e9_8788_dbe828df4a9crow13_col1\" class=\"data row13 col1\" >0.3604</td> \n",
       "        <td id=\"T_b75796ba_5a69_11e9_8788_dbe828df4a9crow13_col2\" class=\"data row13 col2\" >-0.4837</td> \n",
       "        <td id=\"T_b75796ba_5a69_11e9_8788_dbe828df4a9crow13_col3\" class=\"data row13 col3\" >0.1753</td> \n",
       "        <td id=\"T_b75796ba_5a69_11e9_8788_dbe828df4a9crow13_col4\" class=\"data row13 col4\" >-0.4273</td> \n",
       "        <td id=\"T_b75796ba_5a69_11e9_8788_dbe828df4a9crow13_col5\" class=\"data row13 col5\" >0.6954</td> \n",
       "        <td id=\"T_b75796ba_5a69_11e9_8788_dbe828df4a9crow13_col6\" class=\"data row13 col6\" >-0.377</td> \n",
       "        <td id=\"T_b75796ba_5a69_11e9_8788_dbe828df4a9crow13_col7\" class=\"data row13 col7\" >0.2499</td> \n",
       "        <td id=\"T_b75796ba_5a69_11e9_8788_dbe828df4a9crow13_col8\" class=\"data row13 col8\" >-0.3816</td> \n",
       "        <td id=\"T_b75796ba_5a69_11e9_8788_dbe828df4a9crow13_col9\" class=\"data row13 col9\" >-0.4685</td> \n",
       "        <td id=\"T_b75796ba_5a69_11e9_8788_dbe828df4a9crow13_col10\" class=\"data row13 col10\" >-0.5078</td> \n",
       "        <td id=\"T_b75796ba_5a69_11e9_8788_dbe828df4a9crow13_col11\" class=\"data row13 col11\" >0.3335</td> \n",
       "        <td id=\"T_b75796ba_5a69_11e9_8788_dbe828df4a9crow13_col12\" class=\"data row13 col12\" >-0.7377</td> \n",
       "        <td id=\"T_b75796ba_5a69_11e9_8788_dbe828df4a9crow13_col13\" class=\"data row13 col13\" >1</td> \n",
       "    </tr></tbody> \n",
       "</table> "
      ],
      "text/plain": [
       "<pandas.io.formats.style.Styler at 0x7ff11846da20>"
      ]
     },
     "execution_count": 8,
     "metadata": {},
     "output_type": "execute_result"
    }
   ],
   "source": [
    "df.corr().style.set_precision(4)"
   ]
  },
  {
   "cell_type": "markdown",
   "metadata": {},
   "source": [
    "### Selecionando as features X e label y"
   ]
  },
  {
   "cell_type": "code",
   "execution_count": 9,
   "metadata": {},
   "outputs": [],
   "source": [
    "X = df.values[:, :-1]\n",
    "y = df.values[:, -1]"
   ]
  },
  {
   "cell_type": "markdown",
   "metadata": {},
   "source": [
    "### Randomização dos dados usando semente (seed)"
   ]
  },
  {
   "cell_type": "code",
   "execution_count": 34,
   "metadata": {},
   "outputs": [],
   "source": [
    "rs = np.random.RandomState(1)\n",
    "shuffled_indices = rs.permutation(X.shape[0])"
   ]
  },
  {
   "cell_type": "code",
   "execution_count": 11,
   "metadata": {},
   "outputs": [],
   "source": [
    "X = X[shuffled_indices]\n",
    "y = y[shuffled_indices]"
   ]
  },
  {
   "cell_type": "code",
   "execution_count": 13,
   "metadata": {},
   "outputs": [
    {
     "data": {
      "text/plain": [
       "array([[4.9320e-02, 3.3000e+01, 2.1800e+00, 0.0000e+00, 4.7200e-01,\n",
       "        6.8490e+00, 7.0300e+01, 3.1827e+00, 7.0000e+00, 2.2200e+02,\n",
       "        1.8400e+01, 3.9690e+02, 7.5300e+00]])"
      ]
     },
     "execution_count": 13,
     "metadata": {},
     "output_type": "execute_result"
    }
   ],
   "source": [
    "X[:1]"
   ]
  },
  {
   "cell_type": "code",
   "execution_count": 81,
   "metadata": {},
   "outputs": [
    {
     "data": {
      "text/plain": [
       "array([28.2, 23.9, 16.6, 22. , 20.8])"
      ]
     },
     "execution_count": 81,
     "metadata": {},
     "output_type": "execute_result"
    }
   ],
   "source": [
    "y[:5]"
   ]
  },
  {
   "cell_type": "markdown",
   "metadata": {},
   "source": [
    "### Selecionando 70% dos dados para treino e 30% para teste"
   ]
  },
  {
   "cell_type": "code",
   "execution_count": 49,
   "metadata": {},
   "outputs": [],
   "source": [
    "n = int(np.count_nonzero(y) * 0.70)\n",
    "X_train = X[:n]\n",
    "y_train = y[:n]\n",
    "X_test = X[n:]\n",
    "y_test = y[n:]"
   ]
  },
  {
   "cell_type": "markdown",
   "metadata": {},
   "source": [
    "#### Verificacao de dados"
   ]
  },
  {
   "cell_type": "code",
   "execution_count": 50,
   "metadata": {},
   "outputs": [
    {
     "data": {
      "text/plain": [
       "(69.99891393741851, 70.24876178137652, 22.5274011299435, 22.545394736842105)"
      ]
     },
     "execution_count": 50,
     "metadata": {},
     "output_type": "execute_result"
    }
   ],
   "source": [
    "np.average(X_train), np.average(X_test), np.average(y_train), np.average(y_test)"
   ]
  },
  {
   "cell_type": "markdown",
   "metadata": {},
   "source": [
    "(69.73880963494133, 70.00534072874494, 22.5274011299435, 22.545394736842105)"
   ]
  },
  {
   "cell_type": "markdown",
   "metadata": {},
   "source": [
    "# Criação de modelos e predições"
   ]
  },
  {
   "cell_type": "markdown",
   "metadata": {},
   "source": [
    "## Sem normalização e Standardização"
   ]
  },
  {
   "cell_type": "markdown",
   "metadata": {},
   "source": [
    "#### Regressão Linear com Gradiente Descendente"
   ]
  },
  {
   "cell_type": "code",
   "execution_count": 35,
   "metadata": {},
   "outputs": [],
   "source": [
    "model = Regressao_linear_gd.LinearRegressionGD(eta = 0.1, n_iter = 20)"
   ]
  },
  {
   "cell_type": "code",
   "execution_count": 36,
   "metadata": {},
   "outputs": [],
   "source": [
    "model.fit(X_train,y_train);"
   ]
  },
  {
   "cell_type": "code",
   "execution_count": 37,
   "metadata": {},
   "outputs": [],
   "source": [
    "y_predict = model.predict(X_test);"
   ]
  },
  {
   "cell_type": "code",
   "execution_count": 51,
   "metadata": {},
   "outputs": [],
   "source": [
    "rlgd_metric_mse = metricas.mse(y_test,y_predict)\n",
    "rlgd_metric_rmse = metricas.rmse(y_test,y_predict)"
   ]
  },
  {
   "cell_type": "code",
   "execution_count": 53,
   "metadata": {},
   "outputs": [
    {
     "data": {
      "text/plain": [
       "1.6553688780460185e+142"
      ]
     },
     "execution_count": 53,
     "metadata": {},
     "output_type": "execute_result"
    }
   ],
   "source": [
    "rlgd_metric_rmse"
   ]
  },
  {
   "cell_type": "markdown",
   "metadata": {},
   "source": [
    "### Regressão Linear do Scikit-Learning"
   ]
  },
  {
   "cell_type": "code",
   "execution_count": 70,
   "metadata": {},
   "outputs": [],
   "source": [
    "from sklearn.linear_model import LinearRegression"
   ]
  },
  {
   "cell_type": "code",
   "execution_count": 55,
   "metadata": {},
   "outputs": [],
   "source": [
    "model_sk = LinearRegression()"
   ]
  },
  {
   "cell_type": "code",
   "execution_count": 60,
   "metadata": {},
   "outputs": [],
   "source": [
    "model_sk.fit(X_train,y_train);"
   ]
  },
  {
   "cell_type": "code",
   "execution_count": 76,
   "metadata": {},
   "outputs": [
    {
     "data": {
      "text/plain": [
       "5.426876664838224"
      ]
     },
     "execution_count": 76,
     "metadata": {},
     "output_type": "execute_result"
    }
   ],
   "source": [
    "skmetric = model_sk.predict(X_test)\n",
    "metricas.rmse(skmetric,y_test)"
   ]
  },
  {
   "cell_type": "markdown",
   "metadata": {},
   "source": [
    "### Gradiente Descendente Estocástico Regressor do Scikit-Learning"
   ]
  },
  {
   "cell_type": "code",
   "execution_count": 62,
   "metadata": {},
   "outputs": [],
   "source": [
    "from sklearn.linear_model import SGDRegressor"
   ]
  },
  {
   "cell_type": "code",
   "execution_count": 67,
   "metadata": {},
   "outputs": [],
   "source": [
    "model_skGDE = SGDRegressor(tol=0.0001);"
   ]
  },
  {
   "cell_type": "code",
   "execution_count": 68,
   "metadata": {},
   "outputs": [],
   "source": [
    "model_skGDE.fit(X_train,y_train);"
   ]
  },
  {
   "cell_type": "code",
   "execution_count": 71,
   "metadata": {},
   "outputs": [],
   "source": [
    "SKGDE_predict = model_skGDE.predict(X_test);"
   ]
  },
  {
   "cell_type": "code",
   "execution_count": 77,
   "metadata": {},
   "outputs": [
    {
     "data": {
      "text/plain": [
       "61130699965467.266"
      ]
     },
     "execution_count": 77,
     "metadata": {},
     "output_type": "execute_result"
    }
   ],
   "source": [
    "metricas.rmse(SKGDE_predict,y_test)"
   ]
  },
  {
   "cell_type": "markdown",
   "metadata": {},
   "source": [
    "## Com normalização"
   ]
  },
  {
   "cell_type": "code",
   "execution_count": 78,
   "metadata": {},
   "outputs": [],
   "source": [
    "from ml_libs import Normalizacao"
   ]
  },
  {
   "cell_type": "code",
   "execution_count": 79,
   "metadata": {},
   "outputs": [
    {
     "data": {
      "text/plain": [
       "<module 'ml_libs.Normalizacao' from '/home/michel/Documentos/Machine-Learning/Lista 5/ml_libs/Normalizacao.py'>"
      ]
     },
     "execution_count": 79,
     "metadata": {},
     "output_type": "execute_result"
    }
   ],
   "source": [
    "reload(Normalizacao)"
   ]
  },
  {
   "cell_type": "markdown",
   "metadata": {},
   "source": [
    "Normalizando os conjutos X de treino e teste"
   ]
  },
  {
   "cell_type": "code",
   "execution_count": 97,
   "metadata": {},
   "outputs": [],
   "source": [
    "X_train_normal = Normalizacao.normalize(X_train)\n",
    "X_test_normal = Normalizacao.normalize(X_test)"
   ]
  },
  {
   "cell_type": "code",
   "execution_count": 83,
   "metadata": {
    "scrolled": true
   },
   "outputs": [
    {
     "data": {
      "text/plain": [
       "(0.3883534375575344, 0.38610762979178154)"
      ]
     },
     "execution_count": 83,
     "metadata": {},
     "output_type": "execute_result"
    }
   ],
   "source": [
    "np.average(X_train_normal),np.average(X_test_normal)"
   ]
  },
  {
   "cell_type": "markdown",
   "metadata": {},
   "source": [
    "#### Regressão Linear com Gradiente Descendente Estocastico"
   ]
  },
  {
   "cell_type": "code",
   "execution_count": 92,
   "metadata": {},
   "outputs": [],
   "source": [
    "RLGD2model = Regressao_linear_gd.LinearRegressionGD(eta = 0.1, n_iter = 20);\n",
    "RLGD2model.fit(X_train_normal,y_train)\n",
    "RLGD2pred = modelRLGD2.predict(X_test_normal)"
   ]
  },
  {
   "cell_type": "code",
   "execution_count": 93,
   "metadata": {},
   "outputs": [
    {
     "data": {
      "text/plain": [
       "6.171711325331826e+43"
      ]
     },
     "execution_count": 93,
     "metadata": {},
     "output_type": "execute_result"
    }
   ],
   "source": [
    "metricas.rmse(y_test,RLGD2pred)"
   ]
  },
  {
   "cell_type": "markdown",
   "metadata": {},
   "source": [
    "#### Regressão linear do Scikit-learning"
   ]
  },
  {
   "cell_type": "code",
   "execution_count": 98,
   "metadata": {},
   "outputs": [],
   "source": [
    "SKRLmodel = LinearRegression()"
   ]
  },
  {
   "cell_type": "code",
   "execution_count": 100,
   "metadata": {},
   "outputs": [],
   "source": [
    "SKRLmodel.fit(X_train_normal,y_train);"
   ]
  },
  {
   "cell_type": "code",
   "execution_count": 101,
   "metadata": {},
   "outputs": [],
   "source": [
    "SKRLpred = SKRLmodel.predict(X_test_normal)"
   ]
  },
  {
   "cell_type": "code",
   "execution_count": 102,
   "metadata": {},
   "outputs": [
    {
     "data": {
      "text/plain": [
       "5.591819387842729"
      ]
     },
     "execution_count": 102,
     "metadata": {},
     "output_type": "execute_result"
    }
   ],
   "source": [
    "metricas.rmse(y_test,SKRLpred)"
   ]
  },
  {
   "cell_type": "markdown",
   "metadata": {},
   "source": [
    "#### Gradiente Descendente Estocástico Regressor do Scikit-Learning"
   ]
  },
  {
   "cell_type": "code",
   "execution_count": 106,
   "metadata": {},
   "outputs": [],
   "source": [
    "SKGDERmodel = SGDRegressor(tol=0.001)"
   ]
  },
  {
   "cell_type": "code",
   "execution_count": 118,
   "metadata": {},
   "outputs": [],
   "source": [
    "SKGDERmodel.fit(X_train_normal,y_train)\n",
    "SKGDERpred = SKGDERmodel.predict(X_test_normal)"
   ]
  },
  {
   "cell_type": "code",
   "execution_count": 119,
   "metadata": {},
   "outputs": [
    {
     "data": {
      "text/plain": [
       "5.574565911806708"
      ]
     },
     "execution_count": 119,
     "metadata": {},
     "output_type": "execute_result"
    }
   ],
   "source": [
    "metricas.rmse(y_test,SKGDERpred)"
   ]
  },
  {
   "cell_type": "markdown",
   "metadata": {},
   "source": [
    "## Com Standardização"
   ]
  },
  {
   "cell_type": "code",
   "execution_count": 124,
   "metadata": {},
   "outputs": [],
   "source": [
    "X_train_stand = Normalizacao.standardize(X_train)\n",
    "X_test_stand = Normalizacao.standardize(X_test)"
   ]
  },
  {
   "cell_type": "code",
   "execution_count": 125,
   "metadata": {},
   "outputs": [
    {
     "data": {
      "text/plain": [
       "(0.3883534375575344, -1.6361181415528622e-16)"
      ]
     },
     "execution_count": 125,
     "metadata": {},
     "output_type": "execute_result"
    }
   ],
   "source": [
    "np.average(X_train_normal),np.average(X_test_stand)"
   ]
  },
  {
   "cell_type": "markdown",
   "metadata": {},
   "source": [
    "#### Regressão Linear com Gradiente Descendente Estocastico¶"
   ]
  },
  {
   "cell_type": "code",
   "execution_count": 131,
   "metadata": {},
   "outputs": [],
   "source": [
    "RLGD_s_model = Regressao_linear_gd.LinearRegressionGD(eta = 0.1, n_iter = 20);\n",
    "RLGD_s_model.fit(X_train_stand,y_train)\n",
    "RLGD_s_pred = RLGD_s_model.predict(X_test_stand)"
   ]
  },
  {
   "cell_type": "code",
   "execution_count": 132,
   "metadata": {},
   "outputs": [
    {
     "data": {
      "text/plain": [
       "3.0105485035392498e+47"
      ]
     },
     "execution_count": 132,
     "metadata": {},
     "output_type": "execute_result"
    }
   ],
   "source": [
    "metricas.rmse(y_test,RLGD_s_pred)"
   ]
  },
  {
   "cell_type": "markdown",
   "metadata": {},
   "source": [
    "#### Regressão linear do Scikit-learning"
   ]
  },
  {
   "cell_type": "code",
   "execution_count": 133,
   "metadata": {},
   "outputs": [],
   "source": [
    "SKRL_s_model = LinearRegression()\n",
    "SKRL_s_model.fit(X_train_stand,y_train);\n",
    "SKRL_s_pred = SKRL_s_model.predict(X_test_stand);"
   ]
  },
  {
   "cell_type": "code",
   "execution_count": 134,
   "metadata": {},
   "outputs": [
    {
     "data": {
      "text/plain": [
       "5.386312922608289"
      ]
     },
     "execution_count": 134,
     "metadata": {},
     "output_type": "execute_result"
    }
   ],
   "source": [
    "metricas.rmse(y_test,SKRL_s_pred)"
   ]
  },
  {
   "cell_type": "markdown",
   "metadata": {},
   "source": [
    "#### Gradiente Descendente Estocástico Regressor do Scikit-Learning"
   ]
  },
  {
   "cell_type": "code",
   "execution_count": 135,
   "metadata": {},
   "outputs": [],
   "source": [
    "SKGDER_s_model = SGDRegressor(tol=0.001)\n",
    "SKGDER_s_model.fit(X_train_stand, y_train)\n",
    "SKGDER_s_pred = SKGDER_s_model.predict(X_test_stand)"
   ]
  },
  {
   "cell_type": "code",
   "execution_count": 138,
   "metadata": {},
   "outputs": [
    {
     "data": {
      "text/plain": [
       "5.404745411674031"
      ]
     },
     "execution_count": 138,
     "metadata": {},
     "output_type": "execute_result"
    }
   ],
   "source": [
    "metricas.rmse(y_test, SKGDER_s_pred)"
   ]
  },
  {
   "cell_type": "code",
   "execution_count": null,
   "metadata": {},
   "outputs": [],
   "source": []
  },
  {
   "cell_type": "code",
   "execution_count": null,
   "metadata": {},
   "outputs": [],
   "source": []
  }
 ],
 "metadata": {
  "kernelspec": {
   "display_name": "Python 3",
   "language": "python",
   "name": "python3"
  },
  "language_info": {
   "codemirror_mode": {
    "name": "ipython",
    "version": 3
   },
   "file_extension": ".py",
   "mimetype": "text/x-python",
   "name": "python",
   "nbconvert_exporter": "python",
   "pygments_lexer": "ipython3",
   "version": "3.7.1"
  }
 },
 "nbformat": 4,
 "nbformat_minor": 2
}
