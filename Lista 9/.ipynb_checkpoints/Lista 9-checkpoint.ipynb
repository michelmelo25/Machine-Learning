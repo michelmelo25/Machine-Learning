{
 "cells": [
  {
   "cell_type": "code",
   "execution_count": 1,
   "metadata": {},
   "outputs": [],
   "source": [
    "import matplotlib.pyplot as plt\n",
    "import numpy as np\n",
    "import pandas as pd"
   ]
  },
  {
   "cell_type": "code",
   "execution_count": 10,
   "metadata": {},
   "outputs": [
    {
     "ename": "SyntaxError",
     "evalue": "invalid syntax (<ipython-input-10-99f4459dd972>, line 8)",
     "output_type": "error",
     "traceback": [
      "\u001b[0;36m  File \u001b[0;32m\"<ipython-input-10-99f4459dd972>\"\u001b[0;36m, line \u001b[0;32m8\u001b[0m\n\u001b[0;31m    else if(dist == 'chebyshev'):\u001b[0m\n\u001b[0m          ^\u001b[0m\n\u001b[0;31mSyntaxError\u001b[0m\u001b[0;31m:\u001b[0m invalid syntax\n"
     ]
    }
   ],
   "source": [
    "class KNN(dist='euclidean'):\n",
    "    \n",
    "    def cal_dist(_self,X, linha):\n",
    "        if(dist == 'euclidean'):\n",
    "            return _self.dist_euclidiana(X, linha)\n",
    "        if(dist == 'manhattan'):\n",
    "            return _self.manhattan_distance(X, linha)\n",
    "        if(dist == 'chebyshev'):\n",
    "            return _self.chebyshev_distance(X, linha)\n",
    "        if(dist == 'minkowski'):\n",
    "            return _self.minkowski_distance(X, linha)\n",
    "    \n",
    "    def obter_idx_kNN(_self,X, linha, k):\n",
    "        dist = _self.cal_dist(_self.dist, X, linha)\n",
    "        idx_sort = np.argsort(dist_euc)\n",
    "        return idx_sort[0:k]\n",
    "    \n",
    "    def classifica(_self,X, y, linha, k):\n",
    "        idx_kNN = obter_idx_kNN(X, linha, k=k)\n",
    "        count = np.bincount(y[idx_kNN])\n",
    "        return np.argmax(count)\n",
    "\n",
    "    def regressao(_self,X, y, linha, k):\n",
    "        idx_kNN = obter_idx_kNN(X, linha, k=k)\n",
    "        return np.mean(y[idx_kNN])\n",
    "    \n",
    "    def dist_euclidiana(_self,X, linha):\n",
    "        X_ = (X - linha) ** 2\n",
    "        return np.sqrt( np.sum(X_, axis=1) )\n",
    "    \n",
    "    def manhattan_distance(_self,X, linha):\n",
    "        X_ = np.abs(X - linha)\n",
    "        return np.sum(X_, axis=1)\n",
    "    \n",
    "    def chebyshev_distance(_self,X, linha):\n",
    "        X_ = np.max(np.abs(X - linha))\n",
    "        return np.sum(X_,axis=1 )\n",
    "    \n",
    "    def minkowski_distance(_self,X, linha, p=2):\n",
    "        X_ =  np.abs(X - linha) ** p\n",
    "        return np.sum(X_,axis=1) ** (1/p)"
   ]
  },
  {
   "cell_type": "code",
   "execution_count": null,
   "metadata": {},
   "outputs": [],
   "source": []
  }
 ],
 "metadata": {
  "kernelspec": {
   "display_name": "Python 3",
   "language": "python",
   "name": "python3"
  },
  "language_info": {
   "codemirror_mode": {
    "name": "ipython",
    "version": 3
   },
   "file_extension": ".py",
   "mimetype": "text/x-python",
   "name": "python",
   "nbconvert_exporter": "python",
   "pygments_lexer": "ipython3",
   "version": "3.7.1"
  }
 },
 "nbformat": 4,
 "nbformat_minor": 2
}
