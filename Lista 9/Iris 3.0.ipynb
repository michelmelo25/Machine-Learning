{
 "cells": [
  {
   "cell_type": "code",
   "execution_count": 1,
   "metadata": {},
   "outputs": [],
   "source": [
    "import matplotlib.pyplot as plt\n",
    "import numpy as np\n",
    "import pandas as pd"
   ]
  },
  {
   "cell_type": "markdown",
   "metadata": {},
   "source": [
    "### Lendo dataset"
   ]
  },
  {
   "cell_type": "code",
   "execution_count": 2,
   "metadata": {},
   "outputs": [],
   "source": [
    "columns = ['sepal_comprimento','sepal_largura','petal_comprimento','petal_largura','tipo']\n",
    "df = pd.read_csv('iris-dataset.csv',names=columns);"
   ]
  },
  {
   "cell_type": "markdown",
   "metadata": {},
   "source": [
    "### Analisando informações"
   ]
  },
  {
   "cell_type": "code",
   "execution_count": 3,
   "metadata": {},
   "outputs": [
    {
     "data": {
      "text/html": [
       "<div>\n",
       "<style scoped>\n",
       "    .dataframe tbody tr th:only-of-type {\n",
       "        vertical-align: middle;\n",
       "    }\n",
       "\n",
       "    .dataframe tbody tr th {\n",
       "        vertical-align: top;\n",
       "    }\n",
       "\n",
       "    .dataframe thead th {\n",
       "        text-align: right;\n",
       "    }\n",
       "</style>\n",
       "<table border=\"1\" class=\"dataframe\">\n",
       "  <thead>\n",
       "    <tr style=\"text-align: right;\">\n",
       "      <th></th>\n",
       "      <th>sepal_comprimento</th>\n",
       "      <th>sepal_largura</th>\n",
       "      <th>petal_comprimento</th>\n",
       "      <th>petal_largura</th>\n",
       "      <th>tipo</th>\n",
       "    </tr>\n",
       "  </thead>\n",
       "  <tbody>\n",
       "    <tr>\n",
       "      <th>0</th>\n",
       "      <td>5.1</td>\n",
       "      <td>3.5</td>\n",
       "      <td>1.4</td>\n",
       "      <td>0.2</td>\n",
       "      <td>Iris-setosa</td>\n",
       "    </tr>\n",
       "    <tr>\n",
       "      <th>1</th>\n",
       "      <td>4.9</td>\n",
       "      <td>3.0</td>\n",
       "      <td>1.4</td>\n",
       "      <td>0.2</td>\n",
       "      <td>Iris-setosa</td>\n",
       "    </tr>\n",
       "    <tr>\n",
       "      <th>2</th>\n",
       "      <td>4.7</td>\n",
       "      <td>3.2</td>\n",
       "      <td>1.3</td>\n",
       "      <td>0.2</td>\n",
       "      <td>Iris-setosa</td>\n",
       "    </tr>\n",
       "    <tr>\n",
       "      <th>3</th>\n",
       "      <td>4.6</td>\n",
       "      <td>3.1</td>\n",
       "      <td>1.5</td>\n",
       "      <td>0.2</td>\n",
       "      <td>Iris-setosa</td>\n",
       "    </tr>\n",
       "    <tr>\n",
       "      <th>4</th>\n",
       "      <td>5.0</td>\n",
       "      <td>3.6</td>\n",
       "      <td>1.4</td>\n",
       "      <td>0.2</td>\n",
       "      <td>Iris-setosa</td>\n",
       "    </tr>\n",
       "  </tbody>\n",
       "</table>\n",
       "</div>"
      ],
      "text/plain": [
       "   sepal_comprimento  sepal_largura  petal_comprimento  petal_largura  \\\n",
       "0                5.1            3.5                1.4            0.2   \n",
       "1                4.9            3.0                1.4            0.2   \n",
       "2                4.7            3.2                1.3            0.2   \n",
       "3                4.6            3.1                1.5            0.2   \n",
       "4                5.0            3.6                1.4            0.2   \n",
       "\n",
       "          tipo  \n",
       "0  Iris-setosa  \n",
       "1  Iris-setosa  \n",
       "2  Iris-setosa  \n",
       "3  Iris-setosa  \n",
       "4  Iris-setosa  "
      ]
     },
     "execution_count": 3,
     "metadata": {},
     "output_type": "execute_result"
    }
   ],
   "source": [
    "df.head()"
   ]
  },
  {
   "cell_type": "code",
   "execution_count": 4,
   "metadata": {},
   "outputs": [
    {
     "name": "stdout",
     "output_type": "stream",
     "text": [
      "<class 'pandas.core.frame.DataFrame'>\n",
      "RangeIndex: 150 entries, 0 to 149\n",
      "Data columns (total 5 columns):\n",
      "sepal_comprimento    150 non-null float64\n",
      "sepal_largura        150 non-null float64\n",
      "petal_comprimento    150 non-null float64\n",
      "petal_largura        150 non-null float64\n",
      "tipo                 150 non-null object\n",
      "dtypes: float64(4), object(1)\n",
      "memory usage: 5.9+ KB\n"
     ]
    }
   ],
   "source": [
    "df.info()"
   ]
  },
  {
   "cell_type": "code",
   "execution_count": 5,
   "metadata": {},
   "outputs": [
    {
     "data": {
      "text/html": [
       "<div>\n",
       "<style scoped>\n",
       "    .dataframe tbody tr th:only-of-type {\n",
       "        vertical-align: middle;\n",
       "    }\n",
       "\n",
       "    .dataframe tbody tr th {\n",
       "        vertical-align: top;\n",
       "    }\n",
       "\n",
       "    .dataframe thead th {\n",
       "        text-align: right;\n",
       "    }\n",
       "</style>\n",
       "<table border=\"1\" class=\"dataframe\">\n",
       "  <thead>\n",
       "    <tr style=\"text-align: right;\">\n",
       "      <th></th>\n",
       "      <th>sepal_comprimento</th>\n",
       "      <th>sepal_largura</th>\n",
       "      <th>petal_comprimento</th>\n",
       "      <th>petal_largura</th>\n",
       "    </tr>\n",
       "  </thead>\n",
       "  <tbody>\n",
       "    <tr>\n",
       "      <th>count</th>\n",
       "      <td>150.000000</td>\n",
       "      <td>150.000000</td>\n",
       "      <td>150.000000</td>\n",
       "      <td>150.000000</td>\n",
       "    </tr>\n",
       "    <tr>\n",
       "      <th>mean</th>\n",
       "      <td>5.843333</td>\n",
       "      <td>3.054000</td>\n",
       "      <td>3.758667</td>\n",
       "      <td>1.198667</td>\n",
       "    </tr>\n",
       "    <tr>\n",
       "      <th>std</th>\n",
       "      <td>0.828066</td>\n",
       "      <td>0.433594</td>\n",
       "      <td>1.764420</td>\n",
       "      <td>0.763161</td>\n",
       "    </tr>\n",
       "    <tr>\n",
       "      <th>min</th>\n",
       "      <td>4.300000</td>\n",
       "      <td>2.000000</td>\n",
       "      <td>1.000000</td>\n",
       "      <td>0.100000</td>\n",
       "    </tr>\n",
       "    <tr>\n",
       "      <th>25%</th>\n",
       "      <td>5.100000</td>\n",
       "      <td>2.800000</td>\n",
       "      <td>1.600000</td>\n",
       "      <td>0.300000</td>\n",
       "    </tr>\n",
       "    <tr>\n",
       "      <th>50%</th>\n",
       "      <td>5.800000</td>\n",
       "      <td>3.000000</td>\n",
       "      <td>4.350000</td>\n",
       "      <td>1.300000</td>\n",
       "    </tr>\n",
       "    <tr>\n",
       "      <th>75%</th>\n",
       "      <td>6.400000</td>\n",
       "      <td>3.300000</td>\n",
       "      <td>5.100000</td>\n",
       "      <td>1.800000</td>\n",
       "    </tr>\n",
       "    <tr>\n",
       "      <th>max</th>\n",
       "      <td>7.900000</td>\n",
       "      <td>4.400000</td>\n",
       "      <td>6.900000</td>\n",
       "      <td>2.500000</td>\n",
       "    </tr>\n",
       "  </tbody>\n",
       "</table>\n",
       "</div>"
      ],
      "text/plain": [
       "       sepal_comprimento  sepal_largura  petal_comprimento  petal_largura\n",
       "count         150.000000     150.000000         150.000000     150.000000\n",
       "mean            5.843333       3.054000           3.758667       1.198667\n",
       "std             0.828066       0.433594           1.764420       0.763161\n",
       "min             4.300000       2.000000           1.000000       0.100000\n",
       "25%             5.100000       2.800000           1.600000       0.300000\n",
       "50%             5.800000       3.000000           4.350000       1.300000\n",
       "75%             6.400000       3.300000           5.100000       1.800000\n",
       "max             7.900000       4.400000           6.900000       2.500000"
      ]
     },
     "execution_count": 5,
     "metadata": {},
     "output_type": "execute_result"
    }
   ],
   "source": [
    "df.describe()"
   ]
  },
  {
   "cell_type": "code",
   "execution_count": 6,
   "metadata": {},
   "outputs": [
    {
     "data": {
      "text/plain": [
       "Iris-virginica     50\n",
       "Iris-setosa        50\n",
       "Iris-versicolor    50\n",
       "Name: tipo, dtype: int64"
      ]
     },
     "execution_count": 6,
     "metadata": {},
     "output_type": "execute_result"
    }
   ],
   "source": [
    "df['tipo'].value_counts()"
   ]
  },
  {
   "cell_type": "code",
   "execution_count": 7,
   "metadata": {},
   "outputs": [
    {
     "data": {
      "image/png": "[encoded data removed]",
      "text/plain": [
       "<Figure size 432x288 with 1 Axes>"
      ]
     },
     "metadata": {
      "needs_background": "light"
     },
     "output_type": "display_data"
    }
   ],
   "source": [
    "df['tipo'].value_counts().plot(kind='bar');"
   ]
  },
  {
   "cell_type": "markdown",
   "metadata": {},
   "source": [
    "### transformando label em um float"
   ]
  },
  {
   "cell_type": "code",
   "execution_count": 8,
   "metadata": {},
   "outputs": [],
   "source": [
    "df['tipo'] = np.where(df['tipo'] == 'Iris-setosa', 0,df['tipo'])\n",
    "df['tipo'] = np.where(df['tipo'] == 'Iris-versicolor', 1,df['tipo'])\n",
    "df['tipo'] = np.where(df['tipo'] == 'Iris-virginica', 2,df['tipo'])"
   ]
  },
  {
   "cell_type": "markdown",
   "metadata": {},
   "source": [
    "### Separando features e labols"
   ]
  },
  {
   "cell_type": "code",
   "execution_count": 9,
   "metadata": {},
   "outputs": [],
   "source": [
    "X = df.values[:, :-1]\n",
    "y = df.values[:, -1]"
   ]
  },
  {
   "cell_type": "markdown",
   "metadata": {},
   "source": [
    "### Separando train e test"
   ]
  },
  {
   "cell_type": "code",
   "execution_count": 10,
   "metadata": {},
   "outputs": [],
   "source": [
    "from sklearn.model_selection import train_test_split"
   ]
  },
  {
   "cell_type": "code",
   "execution_count": 11,
   "metadata": {
    "scrolled": true
   },
   "outputs": [],
   "source": [
    "X_train, X_test, y_train, y_test = train_test_split(X,y,test_size=0.9, random_state=42, stratify=y);"
   ]
  },
  {
   "cell_type": "markdown",
   "metadata": {},
   "source": [
    "### Estandartizando os dados"
   ]
  },
  {
   "cell_type": "code",
   "execution_count": 12,
   "metadata": {},
   "outputs": [],
   "source": [
    "from sklearn.preprocessing import StandardScaler"
   ]
  },
  {
   "cell_type": "code",
   "execution_count": 13,
   "metadata": {},
   "outputs": [],
   "source": [
    "stand = StandardScaler()"
   ]
  },
  {
   "cell_type": "markdown",
   "metadata": {},
   "source": [
    "Convertendo features para float64 para realizar a standatização"
   ]
  },
  {
   "cell_type": "code",
   "execution_count": 14,
   "metadata": {},
   "outputs": [],
   "source": [
    "X_train = np.float64(X_train)\n",
    "X_test = np.float64(X_test)"
   ]
  },
  {
   "cell_type": "markdown",
   "metadata": {},
   "source": [
    "Estandartizando"
   ]
  },
  {
   "cell_type": "code",
   "execution_count": 15,
   "metadata": {},
   "outputs": [],
   "source": [
    "X_train_std = stand.fit_transform(X_train);\n",
    "X_test_std = stand.transform(X_test);"
   ]
  },
  {
   "cell_type": "markdown",
   "metadata": {},
   "source": [
    "# Criando modelos"
   ]
  },
  {
   "cell_type": "markdown",
   "metadata": {},
   "source": [
    "#### Definindo K"
   ]
  },
  {
   "cell_type": "code",
   "execution_count": 16,
   "metadata": {},
   "outputs": [],
   "source": [
    "k = [1, 3 , 5]"
   ]
  },
  {
   "cell_type": "code",
   "execution_count": 17,
   "metadata": {},
   "outputs": [],
   "source": [
    "from ml_lib import knn"
   ]
  },
  {
   "cell_type": "code",
   "execution_count": 18,
   "metadata": {},
   "outputs": [],
   "source": [
    "from importlib import reload"
   ]
  },
  {
   "cell_type": "code",
   "execution_count": 19,
   "metadata": {},
   "outputs": [
    {
     "data": {
      "text/plain": [
       "<module 'ml_lib.knn' from '/home/michel/Documentos/Machine-Learning/Lista 9/ml_lib/knn.py'>"
      ]
     },
     "execution_count": 19,
     "metadata": {},
     "output_type": "execute_result"
    }
   ],
   "source": [
    "reload(knn)"
   ]
  },
  {
   "cell_type": "markdown",
   "metadata": {},
   "source": [
    "#### Definindo vedor de y_pred"
   ]
  },
  {
   "cell_type": "code",
   "execution_count": 20,
   "metadata": {},
   "outputs": [],
   "source": [
    "y_pred = {}\n",
    "y_pred['euclidean'] = {1:[],3:[],5:[]}\n",
    "y_pred['manhattan'] = {1:[],3:[],5:[]}\n",
    "y_pred['chebyshev'] = {1:[],3:[],5:[]}\n",
    "y_pred['minkowski'] = {1:[],3:[],5:[]}"
   ]
  },
  {
   "cell_type": "markdown",
   "metadata": {},
   "source": [
    "#### Distancia Euclidean"
   ]
  },
  {
   "cell_type": "code",
   "execution_count": 21,
   "metadata": {},
   "outputs": [],
   "source": [
    "modelKNN = knn.KNN(dist='euclidean')"
   ]
  },
  {
   "cell_type": "code",
   "execution_count": 22,
   "metadata": {},
   "outputs": [],
   "source": [
    "for n in k:\n",
    "    for i in range(X_test_std.shape[0]):\n",
    "        y_pred['euclidean'][n].append(modelKNN.classifica(X_train_std,y_train,X_test_std[i],n))\n",
    "    y_pred['euclidean'][n] = np.array(y_pred['euclidean'][n])"
   ]
  },
  {
   "cell_type": "markdown",
   "metadata": {},
   "source": [
    "#### Distancia Manhattan"
   ]
  },
  {
   "cell_type": "code",
   "execution_count": 23,
   "metadata": {},
   "outputs": [],
   "source": [
    "modelKNN = knn.KNN(dist='manhattan')"
   ]
  },
  {
   "cell_type": "code",
   "execution_count": 24,
   "metadata": {},
   "outputs": [],
   "source": [
    "for n in k:\n",
    "    for i in range(X_test_std.shape[0]):\n",
    "        y_pred['manhattan'][n].append(modelKNN.classifica(X_train_std,y_train,X_test_std[i],n))\n",
    "    y_pred['manhattan'][n] = np.array(y_pred['manhattan'][n])"
   ]
  },
  {
   "cell_type": "markdown",
   "metadata": {},
   "source": [
    "#### Distancia Chebyshev"
   ]
  },
  {
   "cell_type": "code",
   "execution_count": 25,
   "metadata": {},
   "outputs": [],
   "source": [
    "modelKNN = knn.KNN(dist='chebyshev')"
   ]
  },
  {
   "cell_type": "code",
   "execution_count": 26,
   "metadata": {},
   "outputs": [],
   "source": [
    "for n in k:\n",
    "    for i in range(X_test_std.shape[0]):\n",
    "        y_pred['chebyshev'][n].append(modelKNN.classifica(X_train_std,y_train,X_test_std[i],n))\n",
    "    y_pred['chebyshev'][n] = np.array(y_pred['chebyshev'][n])"
   ]
  },
  {
   "cell_type": "markdown",
   "metadata": {},
   "source": [
    "#### Distancia Minkowski"
   ]
  },
  {
   "cell_type": "code",
   "execution_count": 27,
   "metadata": {},
   "outputs": [],
   "source": [
    "modelKNN = knn.KNN(dist='minkowski')"
   ]
  },
  {
   "cell_type": "code",
   "execution_count": 28,
   "metadata": {},
   "outputs": [],
   "source": [
    "for n in k:\n",
    "    for i in range(X_test_std.shape[0]):\n",
    "        y_pred['minkowski'][n].append(modelKNN.classifica(X_train_std,y_train,X_test_std[i],n))\n",
    "    y_pred['minkowski'][n] = np.array(y_pred['minkowski'][n])"
   ]
  },
  {
   "cell_type": "markdown",
   "metadata": {},
   "source": [
    "### KNN sklearn"
   ]
  },
  {
   "cell_type": "code",
   "execution_count": 29,
   "metadata": {},
   "outputs": [],
   "source": [
    "from sklearn.neighbors import KNeighborsClassifier"
   ]
  },
  {
   "cell_type": "code",
   "execution_count": 30,
   "metadata": {},
   "outputs": [],
   "source": [
    "modelKNN_skl = KNeighborsClassifier(n_neighbors=1)"
   ]
  },
  {
   "cell_type": "markdown",
   "metadata": {},
   "source": [
    "Predições Sklearn"
   ]
  },
  {
   "cell_type": "code",
   "execution_count": 31,
   "metadata": {},
   "outputs": [],
   "source": [
    "y_pred_sk = {}\n",
    "y_pred_sk['euclidean'] = {1:[],3:[],5:[]}\n",
    "y_pred_sk['manhattan'] = {1:[],3:[],5:[]}\n",
    "y_pred_sk['chebyshev'] = {1:[],3:[],5:[]}\n",
    "y_pred_sk['minkowski'] = {1:[],3:[],5:[]}"
   ]
  },
  {
   "cell_type": "markdown",
   "metadata": {},
   "source": [
    "#### Distancia Euclidean"
   ]
  },
  {
   "cell_type": "code",
   "execution_count": 32,
   "metadata": {},
   "outputs": [],
   "source": [
    "for i in k:\n",
    "    modelKNN_skl = KNeighborsClassifier(n_neighbors=i, metric='euclidean')\n",
    "    modelKNN_skl.fit(X_train_std,np.float64(y_train));\n",
    "    y_pred_sk['euclidean'][i] = modelKNN_skl.predict(X_test_std);"
   ]
  },
  {
   "cell_type": "markdown",
   "metadata": {},
   "source": [
    "#### Distancia Manhattan"
   ]
  },
  {
   "cell_type": "code",
   "execution_count": 33,
   "metadata": {},
   "outputs": [],
   "source": [
    "for i in k:\n",
    "    modelKNN_skl = KNeighborsClassifier(n_neighbors=i, metric='manhattan')\n",
    "    modelKNN_skl.fit(X_train_std,np.float64(y_train));\n",
    "    y_pred_sk['manhattan'][i] = modelKNN_skl.predict(X_test_std);"
   ]
  },
  {
   "cell_type": "markdown",
   "metadata": {},
   "source": [
    "#### Distancia Chebyshev"
   ]
  },
  {
   "cell_type": "code",
   "execution_count": 34,
   "metadata": {},
   "outputs": [],
   "source": [
    "for i in k:\n",
    "    modelKNN_skl = KNeighborsClassifier(n_neighbors=i, metric='chebyshev')\n",
    "    modelKNN_skl.fit(X_train_std,np.float64(y_train));\n",
    "    y_pred_sk['chebyshev'][i] = modelKNN_skl.predict(X_test_std);"
   ]
  },
  {
   "cell_type": "markdown",
   "metadata": {},
   "source": [
    "#### Distancia Minkowski"
   ]
  },
  {
   "cell_type": "code",
   "execution_count": 35,
   "metadata": {},
   "outputs": [],
   "source": [
    "for i in k:\n",
    "    modelKNN_skl = KNeighborsClassifier(n_neighbors=i, metric='minkowski',p=2)\n",
    "    modelKNN_skl.fit(X_train_std,np.float64(y_train));\n",
    "    y_pred_sk['minkowski'][i] = modelKNN_skl.predict(X_test_std);"
   ]
  },
  {
   "cell_type": "markdown",
   "metadata": {},
   "source": [
    "# Metricas"
   ]
  },
  {
   "cell_type": "code",
   "execution_count": 36,
   "metadata": {},
   "outputs": [],
   "source": [
    "from sklearn import metrics"
   ]
  },
  {
   "cell_type": "code",
   "execution_count": 37,
   "metadata": {},
   "outputs": [],
   "source": [
    "accuracy_knn = ['euclidean','manhattan','chebyshev','minkowski']"
   ]
  },
  {
   "cell_type": "markdown",
   "metadata": {},
   "source": [
    "## Implementação Pessoal"
   ]
  },
  {
   "cell_type": "code",
   "execution_count": 38,
   "metadata": {},
   "outputs": [
    {
     "name": "stdout",
     "output_type": "stream",
     "text": [
      "--------------------------------------\n",
      "|          Metrica Accuracy          |\n",
      "--------------------------------------\n",
      "|               K -> 1               |\n",
      "--------------------------------------\n",
      "| euclidean  |  0.9555555555555556   |\n",
      "--------------------------------------\n",
      "| manhattan  |  0.9555555555555556   |\n",
      "--------------------------------------\n",
      "| chebyshev  |  0.3333333333333333   |\n",
      "--------------------------------------\n",
      "| minkowski  |  0.9555555555555556   |\n",
      "--------------------------------------\n",
      "|               K -> 3               |\n",
      "--------------------------------------\n",
      "| euclidean  |  0.8888888888888888   |\n",
      "--------------------------------------\n",
      "| manhattan  |  0.9259259259259259   |\n",
      "--------------------------------------\n",
      "| chebyshev  |  0.3333333333333333   |\n",
      "--------------------------------------\n",
      "| minkowski  |  0.8888888888888888   |\n",
      "--------------------------------------\n",
      "|               K -> 5               |\n",
      "--------------------------------------\n",
      "| euclidean  |  0.8814814814814815   |\n",
      "--------------------------------------\n",
      "| manhattan  |  0.8962962962962963   |\n",
      "--------------------------------------\n",
      "| chebyshev  |  0.3333333333333333   |\n",
      "--------------------------------------\n",
      "| minkowski  |  0.8814814814814815   |\n",
      "--------------------------------------\n"
     ]
    }
   ],
   "source": [
    "print(\"--------------------------------------\")\n",
    "print('|          Metrica Accuracy          |')\n",
    "print(\"--------------------------------------\")\n",
    "for i in k:\n",
    "    print('|               K ->',i,'              |')\n",
    "    print(\"--------------------------------------\")\n",
    "    for m in accuracy_knn:\n",
    "        print('|',m,\" | \",metrics.accuracy_score(np.int64(y_test),y_pred[m][i]),'  |')\n",
    "        print(\"--------------------------------------\")"
   ]
  },
  {
   "cell_type": "markdown",
   "metadata": {},
   "source": [
    "## Sklearn"
   ]
  },
  {
   "cell_type": "code",
   "execution_count": 39,
   "metadata": {},
   "outputs": [
    {
     "name": "stdout",
     "output_type": "stream",
     "text": [
      "--------------------------------------\n",
      "|          Metrica Accuracy          |\n",
      "--------------------------------------\n",
      "|               K -> 1               |\n",
      "--------------------------------------\n",
      "| euclidean  |  0.9555555555555556   |\n",
      "--------------------------------------\n",
      "| manhattan  |  0.9555555555555556   |\n",
      "--------------------------------------\n",
      "| chebyshev  |  0.9111111111111111   |\n",
      "--------------------------------------\n",
      "| minkowski  |  0.9555555555555556   |\n",
      "--------------------------------------\n",
      "|               K -> 3               |\n",
      "--------------------------------------\n",
      "| euclidean  |  0.8888888888888888   |\n",
      "--------------------------------------\n",
      "| manhattan  |  0.9259259259259259   |\n",
      "--------------------------------------\n",
      "| chebyshev  |  0.7851851851851852   |\n",
      "--------------------------------------\n",
      "| minkowski  |  0.8888888888888888   |\n",
      "--------------------------------------\n",
      "|               K -> 5               |\n",
      "--------------------------------------\n",
      "| euclidean  |  0.8814814814814815   |\n",
      "--------------------------------------\n",
      "| manhattan  |  0.8962962962962963   |\n",
      "--------------------------------------\n",
      "| chebyshev  |  0.7851851851851852   |\n",
      "--------------------------------------\n",
      "| minkowski  |  0.8814814814814815   |\n",
      "--------------------------------------\n"
     ]
    }
   ],
   "source": [
    "print(\"--------------------------------------\")\n",
    "print('|          Metrica Accuracy          |')\n",
    "print(\"--------------------------------------\")\n",
    "for i in k:\n",
    "    print('|               K ->',i,'              |')\n",
    "    print(\"--------------------------------------\")\n",
    "    for m in accuracy_knn:\n",
    "        print('|',m,\" | \",metrics.accuracy_score(np.int64(y_test),y_pred_sk[m][i]),'  |')\n",
    "        print(\"--------------------------------------\")"
   ]
  }
 ],
 "metadata": {
  "kernelspec": {
   "display_name": "Python 3",
   "language": "python",
   "name": "python3"
  },
  "language_info": {
   "codemirror_mode": {
    "name": "ipython",
    "version": 3
   },
   "file_extension": ".py",
   "mimetype": "text/x-python",
   "name": "python",
   "nbconvert_exporter": "python",
   "pygments_lexer": "ipython3",
   "version": "3.7.1"
  }
 },
 "nbformat": 4,
 "nbformat_minor": 2
}
